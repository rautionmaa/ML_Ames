{
 "cells": [
  {
   "cell_type": "code",
   "execution_count": 1,
   "metadata": {
    "ExecuteTime": {
     "end_time": "2019-03-04T19:39:05.196052Z",
     "start_time": "2019-03-04T19:39:02.152583Z"
    }
   },
   "outputs": [
    {
     "name": "stderr",
     "output_type": "stream",
     "text": [
      "/anaconda3/lib/python3.7/site-packages/sklearn/ensemble/weight_boosting.py:29: DeprecationWarning: numpy.core.umath_tests is an internal NumPy module and should not be imported. It will be removed in a future NumPy release.\n",
      "  from numpy.core.umath_tests import inner1d\n"
     ]
    }
   ],
   "source": [
    "import pandas as pd\n",
    "import numpy as np\n",
    "import statsmodels.api as sm \n",
    "import itertools\n",
    "import sklearn.feature_selection\n",
    "import sklearn.model_selection as ms\n",
    "import pickle\n",
    "import matplotlib.pyplot as plt\n",
    "import matplotlib\n",
    "import seaborn as sns\n",
    "import datetime\n",
    "import xgboost as xgb\n",
    "from sklearn.ensemble import RandomForestRegressor, GradientBoostingRegressor\n",
    "from scipy.stats import skew\n",
    "from sklearn.metrics import mean_squared_error, make_scorer\n",
    "from sklearn.linear_model import LinearRegression, Ridge, Lasso, ElasticNet, RidgeCV, LassoCV, ElasticNetCV\n",
    "from scipy import stats\n",
    "from sklearn.preprocessing import normalize\n",
    "from scipy.stats import skew\n",
    "from scipy.special import boxcox1p\n",
    "from scipy.stats import boxcox_normmax\n",
    "plt.style.use('ggplot')\n",
    "pd.options.display.max_columns = None\n",
    "pd.options.display.max_rows = 600"
   ]
  },
  {
   "cell_type": "code",
   "execution_count": 2,
   "metadata": {
    "ExecuteTime": {
     "end_time": "2019-03-04T19:39:05.760224Z",
     "start_time": "2019-03-04T19:39:05.674801Z"
    }
   },
   "outputs": [],
   "source": [
    "train = pd.read_csv('train.csv')\n",
    "test = pd.read_csv('test.csv')"
   ]
  },
  {
   "cell_type": "code",
   "execution_count": 3,
   "metadata": {
    "ExecuteTime": {
     "end_time": "2019-03-04T19:39:06.607696Z",
     "start_time": "2019-03-04T19:39:06.330472Z"
    }
   },
   "outputs": [],
   "source": [
    "# Adding 'type' columns that contains 'train' or 'test', and add empty SalePrice columns to the test part\n",
    "train.insert(0, 'type', 'train')\n",
    "test.insert(0,'type','test')\n",
    "test['SalePrice'] = 0.0\n",
    "\n",
    "# merging the two dataframes\n",
    "merged = pd.concat([train,test],axis=0).reset_index(drop=True)\n",
    "merged['SalePrice'] = merged['SalePrice'].astype('float')\n",
    "\n",
    "# Data cleaning\n",
    "import Dprocessv5\n",
    "train = Dprocessv5.dataProcess(merged);"
   ]
  },
  {
   "cell_type": "code",
   "execution_count": 4,
   "metadata": {
    "ExecuteTime": {
     "end_time": "2019-03-04T19:39:07.161802Z",
     "start_time": "2019-03-04T19:39:07.120796Z"
    }
   },
   "outputs": [
    {
     "name": "stdout",
     "output_type": "stream",
     "text": [
      "NAs for numerical features in merged : 0\n"
     ]
    }
   ],
   "source": [
    "# numerical and categorical features + EXCLUDED FIRST\n",
    "excl_features = merged[['Id','type','SalePrice']].columns\n",
    "cat_features = merged.select_dtypes(include = [\"object\"]).columns.drop('type')\n",
    "num_features = merged.select_dtypes(exclude = [\"object\"]).columns.drop(['Id','SalePrice'])\n",
    "\n",
    "mergedNum = merged[num_features]\n",
    "mergedCat = merged[cat_features]\n",
    "mergedExc = merged[excl_features]\n",
    "\n",
    "mergedNAtotal = merged.isnull().sum().sort_values(ascending=False)\n",
    "\n",
    "print(\"NAs for numerical features in merged : \" + str(mergedNum.isnull().values.sum()))\n",
    "\n",
    "if mergedNum.isnull().values.sum() != 0:\n",
    "    mergedNum = mergedNum.fillna(mergedNum.median())\n",
    "    print(\"Remaining NAs for numerical features in merged : \" + str(mergedNum.isnull().values.sum()))"
   ]
  },
  {
   "cell_type": "code",
   "execution_count": 5,
   "metadata": {
    "ExecuteTime": {
     "end_time": "2019-03-04T19:39:07.844647Z",
     "start_time": "2019-03-04T19:39:07.825015Z"
    }
   },
   "outputs": [],
   "source": [
    "numeric_dtypes = ['int16', 'int32', 'int64', 'float16', 'float32', 'float64']\n",
    "numerics2 = []\n",
    "for i in merged.columns:\n",
    "    if merged[i].dtype in numeric_dtypes: \n",
    "        numerics2.append(i)\n",
    "\n",
    "skew_features = merged[numerics2].apply(lambda x: skew(x)).sort_values(ascending=False)\n",
    "skews = pd.DataFrame({'skew':skew_features})"
   ]
  },
  {
   "cell_type": "code",
   "execution_count": 6,
   "metadata": {
    "ExecuteTime": {
     "end_time": "2019-03-04T19:39:08.650114Z",
     "start_time": "2019-03-04T19:39:08.473626Z"
    }
   },
   "outputs": [],
   "source": [
    "high_skew = skew_features[skew_features > 0.5]\n",
    "high_skew = high_skew\n",
    "skew_index = high_skew.index\n",
    "\n",
    "for i in skew_index:\n",
    "    if i != 'SalePrice':\n",
    "        merged[i]= boxcox1p(merged[i], boxcox_normmax(merged[i]+1))\n",
    "\n",
    "        \n",
    "skew_features2 = merged[numerics2].apply(lambda x: skew(x)).sort_values(ascending=False)\n",
    "skews2 = pd.DataFrame({'skew':skew_features2})"
   ]
  },
  {
   "cell_type": "code",
   "execution_count": 7,
   "metadata": {
    "ExecuteTime": {
     "end_time": "2019-03-04T19:39:09.176612Z",
     "start_time": "2019-03-04T19:39:09.114094Z"
    }
   },
   "outputs": [
    {
     "name": "stdout",
     "output_type": "stream",
     "text": [
      "Remaining NAs for categorical features in merged : 0\n",
      "NAs for categorical features in merged : 0\n"
     ]
    }
   ],
   "source": [
    "# Create dummy features for categorical values via one-hot encoding\n",
    "\n",
    "print(\"Remaining NAs for categorical features in merged : \" + str(mergedCat.isnull().values.sum()))\n",
    "\n",
    "print(\"NAs for categorical features in merged : \" + str(mergedCat.isnull().values.sum()))\n",
    "\n",
    "mergedCat = pd.get_dummies(mergedCat)\n"
   ]
  },
  {
   "cell_type": "code",
   "execution_count": 8,
   "metadata": {
    "ExecuteTime": {
     "end_time": "2019-03-04T19:39:09.823970Z",
     "start_time": "2019-03-04T19:39:09.817481Z"
    }
   },
   "outputs": [
    {
     "name": "stdout",
     "output_type": "stream",
     "text": [
      "New number of features : 335\n"
     ]
    }
   ],
   "source": [
    "# rejoin excluded, categorical and numerical features\n",
    "merged = pd.concat([mergedExc,mergedNum, mergedCat], axis = 1)\n",
    "\n",
    "print(\"New number of features : \" + str(merged.shape[1]))"
   ]
  },
  {
   "cell_type": "code",
   "execution_count": 9,
   "metadata": {
    "ExecuteTime": {
     "end_time": "2019-03-04T19:39:10.557564Z",
     "start_time": "2019-03-04T19:39:10.552368Z"
    }
   },
   "outputs": [
    {
     "data": {
      "text/plain": [
       "(2915, 335)"
      ]
     },
     "execution_count": 9,
     "metadata": {},
     "output_type": "execute_result"
    }
   ],
   "source": [
    "merged.shape"
   ]
  },
  {
   "cell_type": "code",
   "execution_count": 10,
   "metadata": {
    "ExecuteTime": {
     "end_time": "2019-03-04T19:39:11.143562Z",
     "start_time": "2019-03-04T19:39:11.130269Z"
    }
   },
   "outputs": [],
   "source": [
    "train = merged[merged['type'] == 'train'].copy()\n",
    "train.drop(columns=['Id','type'],inplace=True)\n",
    "test = merged[merged['type'] == 'test'].copy()\n",
    "test.drop(columns=['type','SalePrice'],inplace=True)"
   ]
  },
  {
   "cell_type": "code",
   "execution_count": 11,
   "metadata": {
    "ExecuteTime": {
     "end_time": "2019-03-04T19:39:11.749374Z",
     "start_time": "2019-03-04T19:39:11.740110Z"
    }
   },
   "outputs": [
    {
     "data": {
      "text/plain": [
       "count    1456.000000\n",
       "mean       12.022909\n",
       "std         0.398649\n",
       "min        10.460242\n",
       "25%        11.774520\n",
       "50%        12.001505\n",
       "75%        12.273731\n",
       "max        13.534473\n",
       "Name: SalePrice, dtype: float64"
      ]
     },
     "execution_count": 11,
     "metadata": {},
     "output_type": "execute_result"
    }
   ],
   "source": [
    "# taking the log of the saleprice\n",
    "\n",
    "train['SalePrice'] = np.log(train['SalePrice'])\n",
    "train['SalePrice'].describe()"
   ]
  },
  {
   "cell_type": "markdown",
   "metadata": {
    "heading_collapsed": true
   },
   "source": [
    "### Linear Regression"
   ]
  },
  {
   "cell_type": "code",
   "execution_count": 12,
   "metadata": {
    "ExecuteTime": {
     "end_time": "2019-03-03T23:42:22.433255Z",
     "start_time": "2019-03-03T23:42:22.404425Z"
    },
    "hidden": true,
    "scrolled": true
   },
   "outputs": [],
   "source": [
    "import pandas as pd\n",
    "import matplotlib.pyplot as plt\n",
    "import seaborn as sns\n",
    "import numpy as np\n",
    "import re\n",
    "import sklearn.model_selection as ms\n",
    "from scipy.stats import norm\n",
    "from scipy.stats import skew\n",
    "from sklearn.preprocessing import StandardScaler\n",
    "from sklearn.linear_model import LinearRegression, RidgeCV, LassoCV, ElasticNetCV\n",
    "from sklearn.ensemble import (GradientBoostingRegressor , RandomForestRegressor,\n",
    "                              BaggingRegressor,ExtraTreesRegressor,AdaBoostRegressor)\n",
    "from scipy import stats\n",
    "from sklearn.model_selection import cross_val_score, train_test_split\n",
    "from sklearn.metrics import mean_squared_error, make_scorer\n",
    "import warnings\n",
    "warnings.filterwarnings('ignore')\n",
    "%matplotlib inline\n",
    "\n",
    "pd.set_option('display.max_columns', 85)\n",
    "pd.set_option('display.max_rows', 85)"
   ]
  },
  {
   "cell_type": "code",
   "execution_count": 13,
   "metadata": {
    "ExecuteTime": {
     "end_time": "2019-03-03T23:42:22.437023Z",
     "start_time": "2019-03-03T23:42:22.435029Z"
    },
    "hidden": true
   },
   "outputs": [],
   "source": [
    "y = train.SalePrice"
   ]
  },
  {
   "cell_type": "markdown",
   "metadata": {},
   "source": [
    "## Defining the train/test split (80/20)"
   ]
  },
  {
   "cell_type": "code",
   "execution_count": 14,
   "metadata": {
    "ExecuteTime": {
     "end_time": "2019-03-04T19:39:15.650617Z",
     "start_time": "2019-03-04T19:39:15.643050Z"
    }
   },
   "outputs": [],
   "source": [
    "house_features = train.drop('SalePrice',axis = 1)\n",
    "prices = train['SalePrice']\n",
    "\n",
    "x_train, x_test, y_train, y_test = ms.train_test_split(house_features, prices, \n",
    "                                                       test_size=0.2, random_state=111)"
   ]
  },
  {
   "cell_type": "markdown",
   "metadata": {},
   "source": [
    "## Ridge"
   ]
  },
  {
   "cell_type": "code",
   "execution_count": 15,
   "metadata": {
    "ExecuteTime": {
     "end_time": "2019-03-04T19:39:44.873617Z",
     "start_time": "2019-03-04T19:39:17.825806Z"
    },
    "cell_style": "center"
   },
   "outputs": [
    {
     "name": "stdout",
     "output_type": "stream",
     "text": [
      "The best alpha is: 20.243\n",
      "\n",
      "The ridge intercept is: 5.31\n",
      "\n",
      "LotFrontage              0.000490\n",
      "LotArea                  0.000002\n",
      "OverallQual              0.050000\n",
      "OverallCond              0.040034\n",
      "YearBuilt                0.002033\n",
      "YearRemodAdd             0.000680\n",
      "MasVnrArea               0.000026\n",
      "BsmtFinSF1               0.000058\n",
      "BsmtFinSF2               0.000044\n",
      "BsmtUnfSF               -0.000011\n",
      "TotalBsmtSF              0.000091\n",
      "1stFlrSF                 0.000106\n",
      "2ndFlrSF                 0.000094\n",
      "LowQualFinSF            -0.000033\n",
      "GrLivArea                0.000166\n",
      "BsmtFullBath             0.020115\n",
      "BsmtHalfBath             0.005169\n",
      "FullBath                 0.020434\n",
      "HalfBath                 0.028653\n",
      "BedroomAbvGr            -0.004379\n",
      "KitchenAbvGr            -0.013573\n",
      "TotRmsAbvGrd            -0.000793\n",
      "Fireplaces               0.003851\n",
      "GarageYrBlt             -0.000037\n",
      "GarageCars               0.023184\n",
      "GarageArea               0.000080\n",
      "WoodDeckSF               0.000088\n",
      "OpenPorchSF              0.000069\n",
      "EnclosedPorch            0.000116\n",
      "3SsnPorch                0.000171\n",
      "ScreenPorch              0.000228\n",
      "PoolArea                 0.000187\n",
      "MiscVal                  0.000003\n",
      "MSSubClass_120           0.014901\n",
      "MSSubClass_150           0.000000\n",
      "MSSubClass_160          -0.040706\n",
      "MSSubClass_180          -0.001368\n",
      "MSSubClass_190          -0.002022\n",
      "MSSubClass_20            0.005353\n",
      "MSSubClass_30           -0.033794\n",
      "MSSubClass_40            0.001199\n",
      "MSSubClass_45            0.007429\n",
      "                           ...   \n",
      "Fence_GdPrv             -0.003892\n",
      "Fence_GdWo              -0.013826\n",
      "Fence_MnPrv              0.003174\n",
      "Fence_MnWw               0.009177\n",
      "Fence_None               0.005368\n",
      "MiscFeature_Gar2         0.000173\n",
      "MiscFeature_None         0.004473\n",
      "MiscFeature_Othr         0.002983\n",
      "MiscFeature_Shed        -0.007629\n",
      "MiscFeature_TenC         0.000000\n",
      "MoSold_1                -0.004718\n",
      "MoSold_10                0.004704\n",
      "MoSold_11               -0.010539\n",
      "MoSold_12                0.008654\n",
      "MoSold_2                -0.007154\n",
      "MoSold_3                -0.007780\n",
      "MoSold_4                -0.004111\n",
      "MoSold_5                 0.014577\n",
      "MoSold_6                 0.010160\n",
      "MoSold_7                 0.005408\n",
      "MoSold_8                -0.001149\n",
      "MoSold_9                -0.008051\n",
      "YrSold_2006              0.010326\n",
      "YrSold_2007             -0.003446\n",
      "YrSold_2008              0.000626\n",
      "YrSold_2009             -0.010950\n",
      "YrSold_2010              0.003444\n",
      "SaleType_COD            -0.008693\n",
      "SaleType_CWD             0.009568\n",
      "SaleType_Con             0.006558\n",
      "SaleType_ConLD           0.008518\n",
      "SaleType_ConLI          -0.016332\n",
      "SaleType_ConLw          -0.002735\n",
      "SaleType_New             0.025422\n",
      "SaleType_Oth             0.007479\n",
      "SaleType_WD             -0.029783\n",
      "SaleCondition_Abnorml   -0.037200\n",
      "SaleCondition_AdjLand    0.008901\n",
      "SaleCondition_Alloca     0.005686\n",
      "SaleCondition_Family    -0.024200\n",
      "SaleCondition_Normal     0.030409\n",
      "SaleCondition_Partial    0.016404\n",
      "Length: 332, dtype: float64\n",
      "\n",
      "The model score is 94.19%\n",
      "\n",
      "Train RMSE: 9.45%\n",
      "\n",
      "Test RMSE: 12.27%\n",
      "\n",
      "Diff in RMSE: 3%\n",
      "\n",
      "\n"
     ]
    }
   ],
   "source": [
    "# 981 \n",
    "# 0.12077\n",
    "# R2: 94.20%\n",
    "# trainRMSE: 9.69%\n",
    "# testRMSE: 10%18%\n",
    "\n",
    "ridcv = RidgeCV(alphas=np.linspace(1e-5,30,10000), normalize=False, scoring=None)\n",
    "\n",
    "ridcv.fit(x_train,y_train)\n",
    "\n",
    "trainRMSE = np.sqrt(mean_squared_error(y_true=y_train, y_pred=ridcv.predict(x_train)))\n",
    "testRMSE = np.sqrt(mean_squared_error(y_true=y_test, y_pred=ridcv.predict(x_test)))\n",
    "\n",
    "print('The best alpha is: {:.6}\\n\\nThe ridge intercept is: {:.2f}\\n\\n{}\\n\\nThe model score is {:.2%}\\n\\nTrain RMSE: {:.2%}\\n\\nTest RMSE: {:.2%}\\n\\nDiff in RMSE: {:.0%}\\n\\n'.format(\n",
    "    ridcv.alpha_,ridcv.intercept_, pd.Series(ridcv.coef_, index=x_train.columns), ridcv.score(x_train, y_train), trainRMSE,testRMSE,(testRMSE - trainRMSE)))\n",
    "\n",
    "# pd.DataFrame({'Id': test['Id'], 'SalePrice': np.exp(ridcv.predict(test.drop(columns='Id')))}\n",
    "#             ).to_csv('ridcv {}.csv'.format(str(datetime.datetime.now())[:19].replace(':','.')\n",
    "#                                            ), index=False)"
   ]
  },
  {
   "cell_type": "code",
   "execution_count": 16,
   "metadata": {
    "ExecuteTime": {
     "end_time": "2019-03-04T19:43:44.661770Z",
     "start_time": "2019-03-04T19:42:59.441200Z"
    },
    "cell_style": "center"
   },
   "outputs": [
    {
     "data": {
      "text/plain": [
       "{'alpha': 20.865865865865867}"
      ]
     },
     "execution_count": 16,
     "metadata": {},
     "output_type": "execute_result"
    }
   ],
   "source": [
    "#  \n",
    "# \n",
    "# R2: \n",
    "# trainRMSE: \n",
    "# testRMSE: \n",
    "\n",
    "ridge = Ridge()\n",
    "parameters = {'alpha':np.linspace(20,25,1000)}\n",
    "ridgegs = ms.GridSearchCV(ridge, parameters, cv=10, scoring='neg_mean_squared_error', n_jobs=-1)\n",
    "ridgegs.fit(x_train, y_train)\n",
    "\n",
    "trainRMSE = np.sqrt(mean_squared_error(y_true=y_train, y_pred=ridgegs.predict(x_train)))\n",
    "testRMSE = np.sqrt(mean_squared_error(y_true=y_test, y_pred=ridgegs.predict(x_test)))\n",
    "\n",
    "ridgegs.best_params_\n",
    "\n",
    "\n",
    "# print('The best parameters are: {}\\n\\nThe ridge intercept is: {:.2f}\\n\\n{}\\n\\nThe model score is {:.2%}\\n\\nTrain RMSE: {:.2%}\\n\\nTest RMSE: {:.2%}\\n\\nDiff in RMSE: {:.0%}\\n\\n'.format(\n",
    "#     ridgegs.alpha_,ridgegs.intercept_, pd.Series(ridgegs.coef_, index=x_train.columns), ridgegs.score(x_train, y_train), trainRMSE,testRMSE,(testRMSE - trainRMSE)))"
   ]
  },
  {
   "cell_type": "code",
   "execution_count": 17,
   "metadata": {
    "ExecuteTime": {
     "end_time": "2019-03-04T02:28:28.084181Z",
     "start_time": "2019-03-04T02:28:28.022661Z"
    },
    "cell_style": "center"
   },
   "outputs": [
    {
     "name": "stdout",
     "output_type": "stream",
     "text": [
      "The best alpha is: 20.8659\n",
      "\n",
      "The ridge intercept is: 5.30\n",
      "\n",
      "LotFrontage              0.000490\n",
      "LotArea                  0.000002\n",
      "OverallQual              0.050111\n",
      "OverallCond              0.040105\n",
      "YearBuilt                0.002037\n",
      "YearRemodAdd             0.000682\n",
      "MasVnrArea               0.000027\n",
      "BsmtFinSF1               0.000058\n",
      "BsmtFinSF2               0.000044\n",
      "BsmtUnfSF               -0.000011\n",
      "TotalBsmtSF              0.000092\n",
      "1stFlrSF                 0.000106\n",
      "2ndFlrSF                 0.000094\n",
      "LowQualFinSF            -0.000034\n",
      "GrLivArea                0.000166\n",
      "BsmtFullBath             0.020023\n",
      "BsmtHalfBath             0.005044\n",
      "FullBath                 0.020205\n",
      "HalfBath                 0.028476\n",
      "BedroomAbvGr            -0.004439\n",
      "KitchenAbvGr            -0.013456\n",
      "TotRmsAbvGrd            -0.000776\n",
      "Fireplaces               0.004017\n",
      "GarageYrBlt             -0.000035\n",
      "GarageCars               0.023098\n",
      "GarageArea               0.000080\n",
      "WoodDeckSF               0.000088\n",
      "OpenPorchSF              0.000069\n",
      "EnclosedPorch            0.000117\n",
      "3SsnPorch                0.000171\n",
      "ScreenPorch              0.000228\n",
      "PoolArea                 0.000186\n",
      "MiscVal                  0.000003\n",
      "MSSubClass_120           0.014869\n",
      "MSSubClass_150           0.000000\n",
      "MSSubClass_160          -0.040326\n",
      "MSSubClass_180          -0.001376\n",
      "MSSubClass_190          -0.002012\n",
      "MSSubClass_20            0.005350\n",
      "MSSubClass_30           -0.033446\n",
      "MSSubClass_40            0.001186\n",
      "MSSubClass_45            0.007398\n",
      "                           ...   \n",
      "Fence_GdPrv             -0.003840\n",
      "Fence_GdWo              -0.013667\n",
      "Fence_MnPrv              0.003188\n",
      "Fence_MnWw               0.008940\n",
      "Fence_None               0.005379\n",
      "MiscFeature_Gar2         0.000177\n",
      "MiscFeature_None         0.004509\n",
      "MiscFeature_Othr         0.002900\n",
      "MiscFeature_Shed        -0.007586\n",
      "MiscFeature_TenC         0.000000\n",
      "MoSold_1                -0.004670\n",
      "MoSold_10                0.004682\n",
      "MoSold_11               -0.010528\n",
      "MoSold_12                0.008605\n",
      "MoSold_2                -0.007083\n",
      "MoSold_3                -0.007775\n",
      "MoSold_4                -0.004166\n",
      "MoSold_5                 0.014483\n",
      "MoSold_6                 0.010133\n",
      "MoSold_7                 0.005424\n",
      "MoSold_8                -0.001117\n",
      "MoSold_9                -0.007989\n",
      "YrSold_2006              0.010305\n",
      "YrSold_2007             -0.003395\n",
      "YrSold_2008              0.000642\n",
      "YrSold_2009             -0.010957\n",
      "YrSold_2010              0.003405\n",
      "SaleType_COD            -0.008610\n",
      "SaleType_CWD             0.009374\n",
      "SaleType_Con             0.006424\n",
      "SaleType_ConLD           0.008207\n",
      "SaleType_ConLI          -0.015910\n",
      "SaleType_ConLw          -0.002641\n",
      "SaleType_New             0.025349\n",
      "SaleType_Oth             0.007308\n",
      "SaleType_WD             -0.029502\n",
      "SaleCondition_Abnorml   -0.037090\n",
      "SaleCondition_AdjLand    0.008619\n",
      "SaleCondition_Alloca     0.005529\n",
      "SaleCondition_Family    -0.023869\n",
      "SaleCondition_Normal     0.030260\n",
      "SaleCondition_Partial    0.016551\n",
      "Length: 332, dtype: float64\n",
      "\n",
      "The model score is 94.18%\n",
      "\n",
      "Train RMSE: 9.46%\n",
      "\n",
      "Test RMSE: 12.27%\n",
      "\n",
      "Diff in RMSE: 3%\n",
      "\n",
      "\n"
     ]
    }
   ],
   "source": [
    "ridcv = RidgeCV(alphas=[20.865865865865867], normalize=False, scoring=None)\n",
    "\n",
    "ridcv.fit(x_train,y_train)\n",
    "\n",
    "trainRMSE = np.sqrt(mean_squared_error(y_true=y_train, y_pred=ridcv.predict(x_train)))\n",
    "testRMSE = np.sqrt(mean_squared_error(y_true=y_test, y_pred=ridcv.predict(x_test)))\n",
    "\n",
    "print('The best alpha is: {:.6}\\n\\nThe ridge intercept is: {:.2f}\\n\\n{}\\n\\nThe model score is {:.2%}\\n\\nTrain RMSE: {:.2%}\\n\\nTest RMSE: {:.2%}\\n\\nDiff in RMSE: {:.0%}\\n\\n'.format(\n",
    "    ridcv.alpha_,ridcv.intercept_, pd.Series(ridcv.coef_, index=x_train.columns), ridcv.score(x_train, y_train), trainRMSE,testRMSE,(testRMSE - trainRMSE)))\n",
    "\n",
    "# pd.DataFrame({'Id': test['Id'], 'SalePrice': np.exp(ridcv.predict(test.drop(columns='Id')))}\n",
    "#             ).to_csv('ridcv {}.csv'.format(str(datetime.datetime.now())[:19].replace(':','.')\n",
    "#                                            ), index=False)"
   ]
  },
  {
   "cell_type": "markdown",
   "metadata": {},
   "source": [
    "## Elastic-net"
   ]
  },
  {
   "cell_type": "code",
   "execution_count": 18,
   "metadata": {
    "ExecuteTime": {
     "end_time": "2019-03-04T01:26:47.608158Z",
     "start_time": "2019-03-04T01:23:17.477517Z"
    },
    "cell_style": "center",
    "hide_input": false
   },
   "outputs": [
    {
     "name": "stdout",
     "output_type": "stream",
     "text": [
      "The best alpha is: 0.02003\n",
      "\n",
      "The elastic-net intercept is: 4.94\n",
      "\n",
      "LotFrontage              0.000495\n",
      "LotArea                  0.000002\n",
      "OverallQual              0.052813\n",
      "OverallCond              0.041749\n",
      "YearBuilt                0.002131\n",
      "YearRemodAdd             0.000700\n",
      "MasVnrArea               0.000030\n",
      "BsmtFinSF1               0.000127\n",
      "BsmtFinSF2               0.000109\n",
      "BsmtUnfSF                0.000054\n",
      "TotalBsmtSF              0.000036\n",
      "1stFlrSF                 0.000232\n",
      "2ndFlrSF                 0.000227\n",
      "LowQualFinSF             0.000083\n",
      "GrLivArea                0.000036\n",
      "BsmtFullBath             0.017955\n",
      "BsmtHalfBath             0.000580\n",
      "FullBath                 0.015178\n",
      "HalfBath                 0.024915\n",
      "BedroomAbvGr            -0.004940\n",
      "KitchenAbvGr            -0.012071\n",
      "TotRmsAbvGrd            -0.000705\n",
      "Fireplaces               0.005884\n",
      "GarageYrBlt              0.000037\n",
      "GarageCars               0.022167\n",
      "GarageArea               0.000086\n",
      "WoodDeckSF               0.000089\n",
      "OpenPorchSF              0.000079\n",
      "EnclosedPorch            0.000119\n",
      "3SsnPorch                0.000174\n",
      "ScreenPorch              0.000231\n",
      "PoolArea                 0.000162\n",
      "MiscVal                  0.000002\n",
      "MSSubClass_120           0.011898\n",
      "MSSubClass_150           0.000000\n",
      "MSSubClass_160          -0.036813\n",
      "MSSubClass_180          -0.000000\n",
      "MSSubClass_190          -0.000000\n",
      "MSSubClass_20            0.000000\n",
      "MSSubClass_30           -0.030681\n",
      "MSSubClass_40            0.000000\n",
      "MSSubClass_45            0.001133\n",
      "                           ...   \n",
      "Fence_GdPrv             -0.001192\n",
      "Fence_GdWo              -0.009707\n",
      "Fence_MnPrv              0.000000\n",
      "Fence_MnWw               0.000000\n",
      "Fence_None               0.003594\n",
      "MiscFeature_Gar2         0.000000\n",
      "MiscFeature_None         0.001713\n",
      "MiscFeature_Othr         0.000000\n",
      "MiscFeature_Shed        -0.004877\n",
      "MiscFeature_TenC         0.000000\n",
      "MoSold_1                -0.000000\n",
      "MoSold_10                0.002457\n",
      "MoSold_11               -0.008303\n",
      "MoSold_12                0.005498\n",
      "MoSold_2                -0.002030\n",
      "MoSold_3                -0.006046\n",
      "MoSold_4                -0.002311\n",
      "MoSold_5                 0.012507\n",
      "MoSold_6                 0.009676\n",
      "MoSold_7                 0.005190\n",
      "MoSold_8                -0.000000\n",
      "MoSold_9                -0.004569\n",
      "YrSold_2006              0.009119\n",
      "YrSold_2007             -0.002296\n",
      "YrSold_2008              0.000000\n",
      "YrSold_2009             -0.011304\n",
      "YrSold_2010              0.000054\n",
      "SaleType_COD            -0.003624\n",
      "SaleType_CWD             0.000399\n",
      "SaleType_Con             0.000000\n",
      "SaleType_ConLD           0.000000\n",
      "SaleType_ConLI          -0.006502\n",
      "SaleType_ConLw          -0.000000\n",
      "SaleType_New             0.025605\n",
      "SaleType_Oth             0.000000\n",
      "SaleType_WD             -0.024746\n",
      "SaleCondition_Abnorml   -0.036520\n",
      "SaleCondition_AdjLand    0.000000\n",
      "SaleCondition_Alloca     0.000000\n",
      "SaleCondition_Family    -0.019148\n",
      "SaleCondition_Normal     0.027722\n",
      "SaleCondition_Partial    0.016728\n",
      "Length: 332, dtype: float64\n",
      "\n",
      "The model score is 93.81%\n",
      "\n",
      "Train RMSE: 9.76%\n",
      "\n",
      "Test RMSE: 12.22%\n",
      "\n",
      "Diff in RMSE: 2%\n",
      "\n",
      "\n"
     ]
    }
   ],
   "source": [
    "# 917\n",
    "# 0.11994\n",
    "# R2: 0.9359\n",
    "# trainRMSE: 0.101935\n",
    "# testRMSE: 0.100320\n",
    "# diff: -0.002\n",
    "\n",
    "enet = ElasticNetCV(l1_ratio=np.linspace(0.01,1,100), alphas=np.linspace(1e-5,20,1000), max_iter=1000, normalize=False, cv=10, n_jobs=-1)\n",
    "\n",
    "enet.fit(x_train, y_train)\n",
    "\n",
    "trainRMSE = np.sqrt(mean_squared_error(y_true=y_train, y_pred=enet.predict(x_train)))\n",
    "testRMSE = np.sqrt(mean_squared_error(y_true=y_test, y_pred=enet.predict(x_test)))\n",
    "\n",
    "print('The best alpha is: {:.6}\\n\\nThe elastic-net intercept is: {:.2f}\\n\\n{}\\n\\nThe model score is {:.2%}\\n\\nTrain RMSE: {:.2%}\\n\\nTest RMSE: {:.2%}\\n\\nDiff in RMSE: {:.0%}\\n\\n'.format(\n",
    "    enet.alpha_,enet.intercept_, pd.Series(enet.coef_, index=x_train.columns), enet.score(x_train, y_train), trainRMSE,testRMSE,(testRMSE - trainRMSE)))\n",
    "\n",
    "# pd.DataFrame({'Id': test['Id'], 'SalePrice': np.exp(enet.predict(test.drop(columns='Id')))}\n",
    "#             ).to_csv('enet {}.csv'.format(str(datetime.datetime.now())[:19].replace(':','.')\n",
    "#                                            ), index=False)"
   ]
  },
  {
   "cell_type": "code",
   "execution_count": 19,
   "metadata": {
    "ExecuteTime": {
     "end_time": "2019-03-04T14:32:06.387454Z",
     "start_time": "2019-03-04T05:16:05.278333Z"
    },
    "cell_style": "center",
    "hide_input": false
   },
   "outputs": [
    {
     "ename": "KeyboardInterrupt",
     "evalue": "",
     "output_type": "error",
     "traceback": [
      "\u001b[0;31m---------------------------------------------------------------------------\u001b[0m",
      "\u001b[0;31mKeyboardInterrupt\u001b[0m                         Traceback (most recent call last)",
      "\u001b[0;32m<ipython-input-19-05391dc3aba0>\u001b[0m in \u001b[0;36m<module>\u001b[0;34m()\u001b[0m\n\u001b[1;32m     10\u001b[0m \u001b[0;34m\u001b[0m\u001b[0m\n\u001b[1;32m     11\u001b[0m \u001b[0melastgs\u001b[0m \u001b[0;34m=\u001b[0m \u001b[0mms\u001b[0m\u001b[0;34m.\u001b[0m\u001b[0mGridSearchCV\u001b[0m\u001b[0;34m(\u001b[0m\u001b[0melasticnet\u001b[0m\u001b[0;34m,\u001b[0m \u001b[0mparameters\u001b[0m\u001b[0;34m,\u001b[0m \u001b[0mcv\u001b[0m\u001b[0;34m=\u001b[0m\u001b[0;36m10\u001b[0m\u001b[0;34m,\u001b[0m \u001b[0mscoring\u001b[0m\u001b[0;34m=\u001b[0m\u001b[0;34m'neg_mean_squared_error'\u001b[0m\u001b[0;34m,\u001b[0m \u001b[0mn_jobs\u001b[0m\u001b[0;34m=\u001b[0m\u001b[0;34m-\u001b[0m\u001b[0;36m1\u001b[0m\u001b[0;34m)\u001b[0m\u001b[0;34m\u001b[0m\u001b[0m\n\u001b[0;32m---> 12\u001b[0;31m \u001b[0melastgs\u001b[0m\u001b[0;34m.\u001b[0m\u001b[0mfit\u001b[0m\u001b[0;34m(\u001b[0m\u001b[0mx_train\u001b[0m\u001b[0;34m,\u001b[0m \u001b[0my_train\u001b[0m\u001b[0;34m)\u001b[0m\u001b[0;34m\u001b[0m\u001b[0m\n\u001b[0m\u001b[1;32m     13\u001b[0m \u001b[0;34m\u001b[0m\u001b[0m\n\u001b[1;32m     14\u001b[0m \u001b[0mtrainRMSE\u001b[0m \u001b[0;34m=\u001b[0m \u001b[0mnp\u001b[0m\u001b[0;34m.\u001b[0m\u001b[0msqrt\u001b[0m\u001b[0;34m(\u001b[0m\u001b[0mmean_squared_error\u001b[0m\u001b[0;34m(\u001b[0m\u001b[0my_true\u001b[0m\u001b[0;34m=\u001b[0m\u001b[0my_train\u001b[0m\u001b[0;34m,\u001b[0m \u001b[0my_pred\u001b[0m\u001b[0;34m=\u001b[0m\u001b[0melastgs\u001b[0m\u001b[0;34m.\u001b[0m\u001b[0mpredict\u001b[0m\u001b[0;34m(\u001b[0m\u001b[0mx_train\u001b[0m\u001b[0;34m)\u001b[0m\u001b[0;34m)\u001b[0m\u001b[0;34m)\u001b[0m\u001b[0;34m\u001b[0m\u001b[0m\n",
      "\u001b[0;32m/anaconda3/lib/python3.7/site-packages/sklearn/model_selection/_search.py\u001b[0m in \u001b[0;36mfit\u001b[0;34m(self, X, y, groups, **fit_params)\u001b[0m\n\u001b[1;32m    638\u001b[0m                                   error_score=self.error_score)\n\u001b[1;32m    639\u001b[0m           for parameters, (train, test) in product(candidate_params,\n\u001b[0;32m--> 640\u001b[0;31m                                                    cv.split(X, y, groups)))\n\u001b[0m\u001b[1;32m    641\u001b[0m \u001b[0;34m\u001b[0m\u001b[0m\n\u001b[1;32m    642\u001b[0m         \u001b[0;31m# if one choose to see train score, \"out\" will contain train score info\u001b[0m\u001b[0;34m\u001b[0m\u001b[0;34m\u001b[0m\u001b[0m\n",
      "\u001b[0;32m/anaconda3/lib/python3.7/site-packages/sklearn/externals/joblib/parallel.py\u001b[0m in \u001b[0;36m__call__\u001b[0;34m(self, iterable)\u001b[0m\n\u001b[1;32m    787\u001b[0m                 \u001b[0;31m# consumption.\u001b[0m\u001b[0;34m\u001b[0m\u001b[0;34m\u001b[0m\u001b[0m\n\u001b[1;32m    788\u001b[0m                 \u001b[0mself\u001b[0m\u001b[0;34m.\u001b[0m\u001b[0m_iterating\u001b[0m \u001b[0;34m=\u001b[0m \u001b[0;32mFalse\u001b[0m\u001b[0;34m\u001b[0m\u001b[0m\n\u001b[0;32m--> 789\u001b[0;31m             \u001b[0mself\u001b[0m\u001b[0;34m.\u001b[0m\u001b[0mretrieve\u001b[0m\u001b[0;34m(\u001b[0m\u001b[0;34m)\u001b[0m\u001b[0;34m\u001b[0m\u001b[0m\n\u001b[0m\u001b[1;32m    790\u001b[0m             \u001b[0;31m# Make sure that we get a last message telling us we are done\u001b[0m\u001b[0;34m\u001b[0m\u001b[0;34m\u001b[0m\u001b[0m\n\u001b[1;32m    791\u001b[0m             \u001b[0melapsed_time\u001b[0m \u001b[0;34m=\u001b[0m \u001b[0mtime\u001b[0m\u001b[0;34m.\u001b[0m\u001b[0mtime\u001b[0m\u001b[0;34m(\u001b[0m\u001b[0;34m)\u001b[0m \u001b[0;34m-\u001b[0m \u001b[0mself\u001b[0m\u001b[0;34m.\u001b[0m\u001b[0m_start_time\u001b[0m\u001b[0;34m\u001b[0m\u001b[0m\n",
      "\u001b[0;32m/anaconda3/lib/python3.7/site-packages/sklearn/externals/joblib/parallel.py\u001b[0m in \u001b[0;36mretrieve\u001b[0;34m(self)\u001b[0m\n\u001b[1;32m    697\u001b[0m             \u001b[0;32mtry\u001b[0m\u001b[0;34m:\u001b[0m\u001b[0;34m\u001b[0m\u001b[0m\n\u001b[1;32m    698\u001b[0m                 \u001b[0;32mif\u001b[0m \u001b[0mgetattr\u001b[0m\u001b[0;34m(\u001b[0m\u001b[0mself\u001b[0m\u001b[0;34m.\u001b[0m\u001b[0m_backend\u001b[0m\u001b[0;34m,\u001b[0m \u001b[0;34m'supports_timeout'\u001b[0m\u001b[0;34m,\u001b[0m \u001b[0;32mFalse\u001b[0m\u001b[0;34m)\u001b[0m\u001b[0;34m:\u001b[0m\u001b[0;34m\u001b[0m\u001b[0m\n\u001b[0;32m--> 699\u001b[0;31m                     \u001b[0mself\u001b[0m\u001b[0;34m.\u001b[0m\u001b[0m_output\u001b[0m\u001b[0;34m.\u001b[0m\u001b[0mextend\u001b[0m\u001b[0;34m(\u001b[0m\u001b[0mjob\u001b[0m\u001b[0;34m.\u001b[0m\u001b[0mget\u001b[0m\u001b[0;34m(\u001b[0m\u001b[0mtimeout\u001b[0m\u001b[0;34m=\u001b[0m\u001b[0mself\u001b[0m\u001b[0;34m.\u001b[0m\u001b[0mtimeout\u001b[0m\u001b[0;34m)\u001b[0m\u001b[0;34m)\u001b[0m\u001b[0;34m\u001b[0m\u001b[0m\n\u001b[0m\u001b[1;32m    700\u001b[0m                 \u001b[0;32melse\u001b[0m\u001b[0;34m:\u001b[0m\u001b[0;34m\u001b[0m\u001b[0m\n\u001b[1;32m    701\u001b[0m                     \u001b[0mself\u001b[0m\u001b[0;34m.\u001b[0m\u001b[0m_output\u001b[0m\u001b[0;34m.\u001b[0m\u001b[0mextend\u001b[0m\u001b[0;34m(\u001b[0m\u001b[0mjob\u001b[0m\u001b[0;34m.\u001b[0m\u001b[0mget\u001b[0m\u001b[0;34m(\u001b[0m\u001b[0;34m)\u001b[0m\u001b[0;34m)\u001b[0m\u001b[0;34m\u001b[0m\u001b[0m\n",
      "\u001b[0;32m/anaconda3/lib/python3.7/multiprocessing/pool.py\u001b[0m in \u001b[0;36mget\u001b[0;34m(self, timeout)\u001b[0m\n\u001b[1;32m    649\u001b[0m \u001b[0;34m\u001b[0m\u001b[0m\n\u001b[1;32m    650\u001b[0m     \u001b[0;32mdef\u001b[0m \u001b[0mget\u001b[0m\u001b[0;34m(\u001b[0m\u001b[0mself\u001b[0m\u001b[0;34m,\u001b[0m \u001b[0mtimeout\u001b[0m\u001b[0;34m=\u001b[0m\u001b[0;32mNone\u001b[0m\u001b[0;34m)\u001b[0m\u001b[0;34m:\u001b[0m\u001b[0;34m\u001b[0m\u001b[0m\n\u001b[0;32m--> 651\u001b[0;31m         \u001b[0mself\u001b[0m\u001b[0;34m.\u001b[0m\u001b[0mwait\u001b[0m\u001b[0;34m(\u001b[0m\u001b[0mtimeout\u001b[0m\u001b[0;34m)\u001b[0m\u001b[0;34m\u001b[0m\u001b[0m\n\u001b[0m\u001b[1;32m    652\u001b[0m         \u001b[0;32mif\u001b[0m \u001b[0;32mnot\u001b[0m \u001b[0mself\u001b[0m\u001b[0;34m.\u001b[0m\u001b[0mready\u001b[0m\u001b[0;34m(\u001b[0m\u001b[0;34m)\u001b[0m\u001b[0;34m:\u001b[0m\u001b[0;34m\u001b[0m\u001b[0m\n\u001b[1;32m    653\u001b[0m             \u001b[0;32mraise\u001b[0m \u001b[0mTimeoutError\u001b[0m\u001b[0;34m\u001b[0m\u001b[0m\n",
      "\u001b[0;32m/anaconda3/lib/python3.7/multiprocessing/pool.py\u001b[0m in \u001b[0;36mwait\u001b[0;34m(self, timeout)\u001b[0m\n\u001b[1;32m    646\u001b[0m \u001b[0;34m\u001b[0m\u001b[0m\n\u001b[1;32m    647\u001b[0m     \u001b[0;32mdef\u001b[0m \u001b[0mwait\u001b[0m\u001b[0;34m(\u001b[0m\u001b[0mself\u001b[0m\u001b[0;34m,\u001b[0m \u001b[0mtimeout\u001b[0m\u001b[0;34m=\u001b[0m\u001b[0;32mNone\u001b[0m\u001b[0;34m)\u001b[0m\u001b[0;34m:\u001b[0m\u001b[0;34m\u001b[0m\u001b[0m\n\u001b[0;32m--> 648\u001b[0;31m         \u001b[0mself\u001b[0m\u001b[0;34m.\u001b[0m\u001b[0m_event\u001b[0m\u001b[0;34m.\u001b[0m\u001b[0mwait\u001b[0m\u001b[0;34m(\u001b[0m\u001b[0mtimeout\u001b[0m\u001b[0;34m)\u001b[0m\u001b[0;34m\u001b[0m\u001b[0m\n\u001b[0m\u001b[1;32m    649\u001b[0m \u001b[0;34m\u001b[0m\u001b[0m\n\u001b[1;32m    650\u001b[0m     \u001b[0;32mdef\u001b[0m \u001b[0mget\u001b[0m\u001b[0;34m(\u001b[0m\u001b[0mself\u001b[0m\u001b[0;34m,\u001b[0m \u001b[0mtimeout\u001b[0m\u001b[0;34m=\u001b[0m\u001b[0;32mNone\u001b[0m\u001b[0;34m)\u001b[0m\u001b[0;34m:\u001b[0m\u001b[0;34m\u001b[0m\u001b[0m\n",
      "\u001b[0;32m/anaconda3/lib/python3.7/threading.py\u001b[0m in \u001b[0;36mwait\u001b[0;34m(self, timeout)\u001b[0m\n\u001b[1;32m    550\u001b[0m             \u001b[0msignaled\u001b[0m \u001b[0;34m=\u001b[0m \u001b[0mself\u001b[0m\u001b[0;34m.\u001b[0m\u001b[0m_flag\u001b[0m\u001b[0;34m\u001b[0m\u001b[0m\n\u001b[1;32m    551\u001b[0m             \u001b[0;32mif\u001b[0m \u001b[0;32mnot\u001b[0m \u001b[0msignaled\u001b[0m\u001b[0;34m:\u001b[0m\u001b[0;34m\u001b[0m\u001b[0m\n\u001b[0;32m--> 552\u001b[0;31m                 \u001b[0msignaled\u001b[0m \u001b[0;34m=\u001b[0m \u001b[0mself\u001b[0m\u001b[0;34m.\u001b[0m\u001b[0m_cond\u001b[0m\u001b[0;34m.\u001b[0m\u001b[0mwait\u001b[0m\u001b[0;34m(\u001b[0m\u001b[0mtimeout\u001b[0m\u001b[0;34m)\u001b[0m\u001b[0;34m\u001b[0m\u001b[0m\n\u001b[0m\u001b[1;32m    553\u001b[0m             \u001b[0;32mreturn\u001b[0m \u001b[0msignaled\u001b[0m\u001b[0;34m\u001b[0m\u001b[0m\n\u001b[1;32m    554\u001b[0m \u001b[0;34m\u001b[0m\u001b[0m\n",
      "\u001b[0;32m/anaconda3/lib/python3.7/threading.py\u001b[0m in \u001b[0;36mwait\u001b[0;34m(self, timeout)\u001b[0m\n\u001b[1;32m    294\u001b[0m         \u001b[0;32mtry\u001b[0m\u001b[0;34m:\u001b[0m    \u001b[0;31m# restore state no matter what (e.g., KeyboardInterrupt)\u001b[0m\u001b[0;34m\u001b[0m\u001b[0m\n\u001b[1;32m    295\u001b[0m             \u001b[0;32mif\u001b[0m \u001b[0mtimeout\u001b[0m \u001b[0;32mis\u001b[0m \u001b[0;32mNone\u001b[0m\u001b[0;34m:\u001b[0m\u001b[0;34m\u001b[0m\u001b[0m\n\u001b[0;32m--> 296\u001b[0;31m                 \u001b[0mwaiter\u001b[0m\u001b[0;34m.\u001b[0m\u001b[0macquire\u001b[0m\u001b[0;34m(\u001b[0m\u001b[0;34m)\u001b[0m\u001b[0;34m\u001b[0m\u001b[0m\n\u001b[0m\u001b[1;32m    297\u001b[0m                 \u001b[0mgotit\u001b[0m \u001b[0;34m=\u001b[0m \u001b[0;32mTrue\u001b[0m\u001b[0;34m\u001b[0m\u001b[0m\n\u001b[1;32m    298\u001b[0m             \u001b[0;32melse\u001b[0m\u001b[0;34m:\u001b[0m\u001b[0;34m\u001b[0m\u001b[0m\n",
      "\u001b[0;31mKeyboardInterrupt\u001b[0m: "
     ]
    }
   ],
   "source": [
    "# 917\n",
    "# 0.11994\n",
    "# R2: 0.9359\n",
    "# trainRMSE: 0.101935\n",
    "# testRMSE: 0.100320\n",
    "# diff: -0.002\n",
    "\n",
    "elasticnet = ElasticNet(max_iter=1000, normalize=False)\n",
    "parameters = {'alpha':np.linspace(1e-5,20,1000), 'l1_ratio':np.linspace(0.01,1,100)}\n",
    "\n",
    "elastgs = ms.GridSearchCV(elasticnet, parameters, cv=10, scoring='neg_mean_squared_error', n_jobs=-1)\n",
    "elastgs.fit(x_train, y_train)\n",
    "\n",
    "trainRMSE = np.sqrt(mean_squared_error(y_true=y_train, y_pred=elastgs.predict(x_train)))\n",
    "testRMSE = np.sqrt(mean_squared_error(y_true=y_test, y_pred=elastgs.predict(x_test)))\n",
    "\n",
    "elastgs.best_params_\n",
    "\n",
    "pickle.dump(elastgs, open('elastgs', 'wb'))\n",
    "\n",
    "# pd.DataFrame({'Id': test['Id'], 'SalePrice': np.exp(enet.predict(test.drop(columns='Id')))}\n",
    "#             ).to_csv('enet {}.csv'.format(str(datetime.datetime.now())[:19].replace(':','.')\n",
    "#                                            ), index=False)"
   ]
  },
  {
   "cell_type": "code",
   "execution_count": null,
   "metadata": {
    "ExecuteTime": {
     "end_time": "2019-03-04T01:26:47.608158Z",
     "start_time": "2019-03-04T01:23:17.477517Z"
    },
    "cell_style": "center",
    "hide_input": false
   },
   "outputs": [],
   "source": [
    "# \n",
    "# \n",
    "# R2: \n",
    "# trainRMSE: \n",
    "# testRMSE: \n",
    "# diff: \n",
    "\n",
    "parameters = {'kernel':('linear', 'rbf'), 'C':[1, 10]}\n",
    "svc = svm.SVC(gamma=\"scale\")\n",
    "clf = GridSearchCV(svc, parameters, cv=5)\n",
    "clf.fit(iris.data, iris.target)\n",
    "\n",
    "enet = ElasticNetCV(l1_ratio=np.linspace(0.01,1,100), alphas=np.linspace(1e-5,20,1000), max_iter=1000, normalize=False, cv=10, n_jobs=-1)\n",
    "\n",
    "enet.fit(x_train, y_train)\n",
    "\n",
    "trainRMSE = np.sqrt(mean_squared_error(y_true=y_train, y_pred=enet.predict(x_train)))\n",
    "testRMSE = np.sqrt(mean_squared_error(y_true=y_test, y_pred=enet.predict(x_test)))\n",
    "\n",
    "print('The best alpha is: {:.6}\\n\\nThe elastic-net intercept is: {:.2f}\\n\\n{}\\n\\nThe model score is {:.2%}\\n\\nTrain RMSE: {:.2%}\\n\\nTest RMSE: {:.2%}\\n\\nDiff in RMSE: {:.0%}\\n\\n'.format(\n",
    "    enet.alpha_,enet.intercept_, pd.Series(enet.coef_, index=x_train.columns), enet.score(x_train, y_train), trainRMSE,testRMSE,(testRMSE - trainRMSE)))\n",
    "\n",
    "# pd.DataFrame({'Id': test['Id'], 'SalePrice': np.exp(enet.predict(test.drop(columns='Id')))}\n",
    "#             ).to_csv('enet {}.csv'.format(str(datetime.datetime.now())[:19].replace(':','.')\n",
    "#                                            ), index=False)"
   ]
  },
  {
   "cell_type": "markdown",
   "metadata": {},
   "source": [
    "## Lasso"
   ]
  },
  {
   "cell_type": "code",
   "execution_count": null,
   "metadata": {
    "ExecuteTime": {
     "end_time": "2019-03-03T23:59:33.929680Z",
     "start_time": "2019-03-03T23:58:19.287356Z"
    },
    "cell_style": "center"
   },
   "outputs": [],
   "source": [
    "#  alpha           UJ range              np.linspace(1e-4,1e-2,1000)\n",
    "#  CV          100         10          100\n",
    "# R2:        0.9366      0.9399      0.9374\n",
    "# trainRMSE: 0.101363    0.098698    0.100718\n",
    "# testRMSE:  0.100012    0.100196    0.099977\n",
    "# diff:b       0.00       0.00         0.00\n",
    "\n",
    "lassocv = LassoCV(alphas=np.linspace(1e-4,1e-3,1000), normalize=False,\n",
    "                      max_iter=10000, n_jobs=-1, cv=100)\n",
    "\n",
    "lassocv.fit(x_train, y_train)\n",
    "\n",
    "trainRMSE = np.sqrt(mean_squared_error(y_true=y_train, y_pred=lassocv.predict(x_train)))\n",
    "testRMSE = np.sqrt(mean_squared_error(y_true=y_test, y_pred=lassocv.predict(x_test)))\n",
    "\n",
    "print('The best alpha is: {:.6}\\n\\nThe lasso intercept is: {:.2f}\\n\\n{}\\n\\nThe model score is {:.2%}\\n\\nTrain RMSE: {:.2%}\\n\\nTest RMSE: {:.2%}\\n\\nDiff in RMSE: {:.0%}\\n\\n'.format(\n",
    "    lassocv.alpha_,lassocv.intercept_, pd.Series(lassocv.coef_, index=x_train.columns), lassocv.score(x_train, y_train), trainRMSE,testRMSE,(testRMSE - trainRMSE)))\n",
    "\n",
    "# pd.DataFrame({'Id':test['Id'],'SalePrice': np.exp(lassocv.predict(test.drop(columns='Id')))}\n",
    "#             ).to_csv('lasso {}.csv'.format(str(datetime.datetime.now())[:19].replace(':','.')\n",
    "#                                            ), index=False)"
   ]
  },
  {
   "cell_type": "markdown",
   "metadata": {},
   "source": [
    "## Random Forest"
   ]
  },
  {
   "cell_type": "code",
   "execution_count": null,
   "metadata": {
    "ExecuteTime": {
     "end_time": "2019-03-04T00:07:56.872102Z",
     "start_time": "2019-03-04T00:03:03.035301Z"
    },
    "cell_style": "split"
   },
   "outputs": [],
   "source": [
    "rf = RandomForestRegressor(n_estimators=1000,max_depth=10,max_features=0.5, min_samples_split=2, min_samples_leaf=1,n_jobs=-1)\n",
    "rf.fit(x_train, y_train)\n",
    "\n",
    "scores = ms.cross_val_score(rf, x_train, y_train, cv=10)\n",
    "\n",
    "print(scores.mean())\n",
    "\n",
    "trainRMSE = np.sqrt(mean_squared_error(y_true=y_train, y_pred=rf.predict(x_train)))\n",
    "testRMSE = np.sqrt(mean_squared_error(y_true=y_test, y_pred=rf.predict(x_test)))\n",
    "\n",
    "print('\\nThe model score is {:.2%}\\n\\nTrain RMSE: {:.2%}\\n\\nTest RMSE: {:.2%}\\n\\nDiff in RMSE: {:.0%}\\n\\n'.format(\n",
    "    rf.score(x_train, y_train), trainRMSE,testRMSE,(testRMSE - trainRMSE)))\n",
    "\n",
    "# pd.DataFrame({'Id':test['Id'],'SalePrice': np.exp(rf.predict(test.drop(columns='Id')))}\n",
    "#             ).to_csv('rf {}.csv'.format(str(datetime.datetime.now())[:19].replace(':','.')\n",
    "#                                            ), index=False)\n",
    "\n",
    "# 1000 trees\n",
    "# 0.8395225412896815\n",
    "# R2: 0.9517\n",
    "# Train RMSE: 0.088419\n",
    "# Test RMSE: 0.129310\n",
    "# Diff in RMSE: 0.041"
   ]
  },
  {
   "cell_type": "markdown",
   "metadata": {
    "cell_style": "center"
   },
   "source": [
    "### Looping over max tree depth"
   ]
  },
  {
   "cell_type": "code",
   "execution_count": null,
   "metadata": {
    "ExecuteTime": {
     "end_time": "2019-03-04T00:07:56.872102Z",
     "start_time": "2019-03-04T00:03:03.035301Z"
    },
    "cell_style": "split"
   },
   "outputs": [],
   "source": [
    "for i in range(1,11):\n",
    "    rf = RandomForestRegressor(n_estimators=500,max_depth=i,max_features='auto', min_samples_split=2, min_samples_leaf=1,n_jobs=-1)\n",
    "    rf.fit(x_train, y_train)\n",
    "\n",
    "    scores = ms.cross_val_score(rf, x_train, y_train, cv=10)\n",
    "    print('trial with depth = {}'.format(i))\n",
    "    print(scores.mean())\n",
    "\n",
    "    trainRMSE = np.sqrt(mean_squared_error(y_true=y_train, y_pred=rf.predict(x_train)))\n",
    "    testRMSE = np.sqrt(mean_squared_error(y_true=y_test, y_pred=rf.predict(x_test)))\n",
    "\n",
    "    print('\\nThe model score is {:.2%}\\n\\nTrain RMSE: {:.2%}\\n\\nTest RMSE: {:.2%}\\n\\nDiff in RMSE: {:.0%}\\n\\n'.format(\n",
    "        rf.score(x_train, y_train), trainRMSE,testRMSE,(testRMSE - trainRMSE)))\n",
    "\n"
   ]
  },
  {
   "cell_type": "markdown",
   "metadata": {
    "cell_style": "split"
   },
   "source": [
    "### Looping over percentage of features for each tree"
   ]
  },
  {
   "cell_type": "code",
   "execution_count": null,
   "metadata": {
    "ExecuteTime": {
     "end_time": "2019-03-04T00:32:18.350909Z",
     "start_time": "2019-03-04T00:31:58.165490Z"
    },
    "cell_style": "split",
    "scrolled": true
   },
   "outputs": [],
   "source": [
    "for i in np.linspace(0.05,1.0,20):\n",
    "    rf = RandomForestRegressor(n_estimators=500,max_depth=10,max_features=i, min_samples_split=2, min_samples_leaf=1,n_jobs=-1)\n",
    "    rf.fit(x_train, y_train)\n",
    "\n",
    "    scores = ms.cross_val_score(rf, x_train, y_train, cv=10)\n",
    "    print('trial with depth = {}'.format(i))\n",
    "    print(scores.mean())\n",
    "\n",
    "    trainRMSE = np.sqrt(mean_squared_error(y_true=y_train, y_pred=rf.predict(x_train)))\n",
    "    testRMSE = np.sqrt(mean_squared_error(y_true=y_test, y_pred=rf.predict(x_test)))\n",
    "\n",
    "    print('\\nThe model score is {:.2%}\\n\\nTrain RMSE: {:.2%}}\\n\\nTest RMSE: {:.2%}\\n\\nDiff in RMSE: {:.2%}\\n\\n'.format(\n",
    "        rf.score(x_train, y_train), trainRMSE,testRMSE,(testRMSE - trainRMSE)))\n"
   ]
  },
  {
   "cell_type": "markdown",
   "metadata": {},
   "source": [
    "## Gradient Boosting"
   ]
  },
  {
   "cell_type": "code",
   "execution_count": null,
   "metadata": {
    "ExecuteTime": {
     "end_time": "2019-03-04T16:53:42.136770Z",
     "start_time": "2019-03-04T16:53:36.165776Z"
    }
   },
   "outputs": [],
   "source": [
    "gbst = GradientBoostingRegressor(n_estimators=3000, learning_rate=0.05,\n",
    "                                   max_depth=4, max_features='sqrt',\n",
    "                                   min_samples_leaf=15, min_samples_split=10, \n",
    "                                   loss='huber', random_state =111)\n",
    "\n",
    "gbst.fit(x_train, y_train)\n",
    "\n",
    "trainRMSE = np.sqrt(mean_squared_error(y_true=y_train, y_pred=gbst.predict(x_train)))\n",
    "testRMSE = np.sqrt(mean_squared_error(y_true=y_test, y_pred=gbst.predict(x_test)))\n",
    "\n",
    "print('\\nThe model score is {:.2%}\\n\\nTrain RMSE: {:.2%}\\n\\nTest RMSE: {:.2%}\\n\\nDiff in RMSE: {:.0%}\\n\\n'.format(\n",
    "    gbst.score(x_train, y_train), trainRMSE,testRMSE,(testRMSE - trainRMSE)))\n",
    "\n",
    "# pd.DataFrame({'Id':test['Id'],'SalePrice': np.exp(gbst.predict(test.drop(columns='Id')))}\n",
    "#             ).to_csv('gbst {}.csv'.format(str(datetime.datetime.now())[:19].replace(':','.')\n",
    "#                                            ), index=False)"
   ]
  },
  {
   "cell_type": "markdown",
   "metadata": {},
   "source": [
    "## XGBoost"
   ]
  },
  {
   "cell_type": "code",
   "execution_count": null,
   "metadata": {
    "ExecuteTime": {
     "end_time": "2019-03-04T00:50:23.332268Z",
     "start_time": "2019-03-04T00:50:23.312003Z"
    }
   },
   "outputs": [],
   "source": [
    "# read in data\n",
    "dtrain = xgb.DMatrix(x_train)\n",
    "dtest = xgb.DMatrix(x_test)\n",
    "# specify parameters via map\n",
    "param = {'max_depth':2, 'eta':1,'booster':'gbtree', 'objective':'reg:linear' }\n",
    "num_round = 2\n",
    "bst = xgb.train(param, dtrain, num_round)\n",
    "# make prediction\n",
    "preds = bst.predict(dtest)\n",
    "\n",
    "trainRMSE = np.sqrt(mean_squared_error(y_true=y_train, y_pred=bst.predict(x_train)))\n",
    "testRMSE = np.sqrt(mean_squared_error(y_true=y_test, y_pred=bst.predict(x_test)))\n",
    "\n",
    "print('\\nThe model score is {:.2%}\\n\\nTrain RMSE: {:.2%}\\n\\nTest RMSE: {:.2%}\\n\\nDiff in RMSE: {:.0%}\\n\\n'.format(\n",
    "        bst.score(x_train, y_train), trainRMSE,testRMSE,(testRMSE - trainRMSE)))"
   ]
  },
  {
   "cell_type": "code",
   "execution_count": null,
   "metadata": {
    "ExecuteTime": {
     "end_time": "2019-03-04T00:37:06.923691Z",
     "start_time": "2019-03-04T00:37:06.894503Z"
    }
   },
   "outputs": [],
   "source": []
  },
  {
   "cell_type": "markdown",
   "metadata": {},
   "source": [
    "## Output csv"
   ]
  },
  {
   "cell_type": "code",
   "execution_count": null,
   "metadata": {
    "ExecuteTime": {
     "end_time": "2019-03-04T00:23:08.314010Z",
     "start_time": "2019-03-04T00:23:08.056804Z"
    }
   },
   "outputs": [],
   "source": [
    "# pd.DataFrame({'Id': test['Id'], 'SalePrice': np.exp(ridcv.predict(test.drop(columns='Id')))}\n",
    "#             ).to_csv('ridcv {}.csv'.format(str(datetime.datetime.now())[:19].replace(':','.')\n",
    "#                                            ), index=False)\n",
    "# pd.DataFrame({'Id': test['Id'], 'SalePrice': np.exp(enet.predict(test.drop(columns='Id')))}\n",
    "#             ).to_csv('enet {}.csv'.format(str(datetime.datetime.now())[:19].replace(':','.')\n",
    "#                                            ), index=False)\n",
    "# pd.DataFrame({'Id':test['Id'],'SalePrice': np.exp(lassocv.predict(test.drop(columns='Id')))}\n",
    "#             ).to_csv('lasso {}.csv'.format(str(datetime.datetime.now())[:19].replace(':','.')\n",
    "#                                            ), index=False)\n",
    "# pd.DataFrame({'Id':test['Id'],'SalePrice': np.exp(rf.predict(test.drop(columns='Id')))}\n",
    "#             ).to_csv('rf {}.csv'.format(str(datetime.datetime.now())[:19].replace(':','.')\n",
    "#                                            ), index=False)\n",
    "# pd.DataFrame({'Id':test['Id'],'SalePrice': np.exp(xgb_model.predict(test.drop(columns='Id')))}\n",
    "#             ).to_csv('xgb_model {}.csv'.format(str(datetime.datetime.now())[:19].replace(':','.')\n",
    "#                                            ), index=False)"
   ]
  },
  {
   "cell_type": "markdown",
   "metadata": {},
   "source": [
    "# All Scores"
   ]
  },
  {
   "cell_type": "code",
   "execution_count": 10,
   "metadata": {},
   "outputs": [],
   "source": [
    "Scores = {'Ridge': 10.18, \"Lasso\": .099977, \"Elastic Net\":  0.100320, 'Random Forest': 0.129310}"
   ]
  },
  {
   "cell_type": "code",
   "execution_count": 18,
   "metadata": {},
   "outputs": [
    {
     "ename": "ValueError",
     "evalue": "If using all scalar values, you must pass an index",
     "output_type": "error",
     "traceback": [
      "\u001b[0;31m---------------------------------------------------------------------------\u001b[0m",
      "\u001b[0;31mValueError\u001b[0m                                Traceback (most recent call last)",
      "\u001b[0;32m<ipython-input-18-d4dc21712e57>\u001b[0m in \u001b[0;36m<module>\u001b[0;34m()\u001b[0m\n\u001b[0;32m----> 1\u001b[0;31m \u001b[0mpd\u001b[0m\u001b[0;34m.\u001b[0m\u001b[0mDataFrame\u001b[0m\u001b[0;34m(\u001b[0m\u001b[0mScores\u001b[0m\u001b[0;34m)\u001b[0m\u001b[0;34m\u001b[0m\u001b[0m\n\u001b[0m",
      "\u001b[0;32m/anaconda3/lib/python3.7/site-packages/pandas/core/frame.py\u001b[0m in \u001b[0;36m__init__\u001b[0;34m(self, data, index, columns, dtype, copy)\u001b[0m\n\u001b[1;32m    346\u001b[0m                                  dtype=dtype, copy=copy)\n\u001b[1;32m    347\u001b[0m         \u001b[0;32melif\u001b[0m \u001b[0misinstance\u001b[0m\u001b[0;34m(\u001b[0m\u001b[0mdata\u001b[0m\u001b[0;34m,\u001b[0m \u001b[0mdict\u001b[0m\u001b[0;34m)\u001b[0m\u001b[0;34m:\u001b[0m\u001b[0;34m\u001b[0m\u001b[0m\n\u001b[0;32m--> 348\u001b[0;31m             \u001b[0mmgr\u001b[0m \u001b[0;34m=\u001b[0m \u001b[0mself\u001b[0m\u001b[0;34m.\u001b[0m\u001b[0m_init_dict\u001b[0m\u001b[0;34m(\u001b[0m\u001b[0mdata\u001b[0m\u001b[0;34m,\u001b[0m \u001b[0mindex\u001b[0m\u001b[0;34m,\u001b[0m \u001b[0mcolumns\u001b[0m\u001b[0;34m,\u001b[0m \u001b[0mdtype\u001b[0m\u001b[0;34m=\u001b[0m\u001b[0mdtype\u001b[0m\u001b[0;34m)\u001b[0m\u001b[0;34m\u001b[0m\u001b[0m\n\u001b[0m\u001b[1;32m    349\u001b[0m         \u001b[0;32melif\u001b[0m \u001b[0misinstance\u001b[0m\u001b[0;34m(\u001b[0m\u001b[0mdata\u001b[0m\u001b[0;34m,\u001b[0m \u001b[0mma\u001b[0m\u001b[0;34m.\u001b[0m\u001b[0mMaskedArray\u001b[0m\u001b[0;34m)\u001b[0m\u001b[0;34m:\u001b[0m\u001b[0;34m\u001b[0m\u001b[0m\n\u001b[1;32m    350\u001b[0m             \u001b[0;32mimport\u001b[0m \u001b[0mnumpy\u001b[0m\u001b[0;34m.\u001b[0m\u001b[0mma\u001b[0m\u001b[0;34m.\u001b[0m\u001b[0mmrecords\u001b[0m \u001b[0;32mas\u001b[0m \u001b[0mmrecords\u001b[0m\u001b[0;34m\u001b[0m\u001b[0m\n",
      "\u001b[0;32m/anaconda3/lib/python3.7/site-packages/pandas/core/frame.py\u001b[0m in \u001b[0;36m_init_dict\u001b[0;34m(self, data, index, columns, dtype)\u001b[0m\n\u001b[1;32m    457\u001b[0m             \u001b[0marrays\u001b[0m \u001b[0;34m=\u001b[0m \u001b[0;34m[\u001b[0m\u001b[0mdata\u001b[0m\u001b[0;34m[\u001b[0m\u001b[0mk\u001b[0m\u001b[0;34m]\u001b[0m \u001b[0;32mfor\u001b[0m \u001b[0mk\u001b[0m \u001b[0;32min\u001b[0m \u001b[0mkeys\u001b[0m\u001b[0;34m]\u001b[0m\u001b[0;34m\u001b[0m\u001b[0m\n\u001b[1;32m    458\u001b[0m \u001b[0;34m\u001b[0m\u001b[0m\n\u001b[0;32m--> 459\u001b[0;31m         \u001b[0;32mreturn\u001b[0m \u001b[0m_arrays_to_mgr\u001b[0m\u001b[0;34m(\u001b[0m\u001b[0marrays\u001b[0m\u001b[0;34m,\u001b[0m \u001b[0mdata_names\u001b[0m\u001b[0;34m,\u001b[0m \u001b[0mindex\u001b[0m\u001b[0;34m,\u001b[0m \u001b[0mcolumns\u001b[0m\u001b[0;34m,\u001b[0m \u001b[0mdtype\u001b[0m\u001b[0;34m=\u001b[0m\u001b[0mdtype\u001b[0m\u001b[0;34m)\u001b[0m\u001b[0;34m\u001b[0m\u001b[0m\n\u001b[0m\u001b[1;32m    460\u001b[0m \u001b[0;34m\u001b[0m\u001b[0m\n\u001b[1;32m    461\u001b[0m     \u001b[0;32mdef\u001b[0m \u001b[0m_init_ndarray\u001b[0m\u001b[0;34m(\u001b[0m\u001b[0mself\u001b[0m\u001b[0;34m,\u001b[0m \u001b[0mvalues\u001b[0m\u001b[0;34m,\u001b[0m \u001b[0mindex\u001b[0m\u001b[0;34m,\u001b[0m \u001b[0mcolumns\u001b[0m\u001b[0;34m,\u001b[0m \u001b[0mdtype\u001b[0m\u001b[0;34m=\u001b[0m\u001b[0;32mNone\u001b[0m\u001b[0;34m,\u001b[0m \u001b[0mcopy\u001b[0m\u001b[0;34m=\u001b[0m\u001b[0;32mFalse\u001b[0m\u001b[0;34m)\u001b[0m\u001b[0;34m:\u001b[0m\u001b[0;34m\u001b[0m\u001b[0m\n",
      "\u001b[0;32m/anaconda3/lib/python3.7/site-packages/pandas/core/frame.py\u001b[0m in \u001b[0;36m_arrays_to_mgr\u001b[0;34m(arrays, arr_names, index, columns, dtype)\u001b[0m\n\u001b[1;32m   7354\u001b[0m     \u001b[0;31m# figure out the index, if necessary\u001b[0m\u001b[0;34m\u001b[0m\u001b[0;34m\u001b[0m\u001b[0m\n\u001b[1;32m   7355\u001b[0m     \u001b[0;32mif\u001b[0m \u001b[0mindex\u001b[0m \u001b[0;32mis\u001b[0m \u001b[0;32mNone\u001b[0m\u001b[0;34m:\u001b[0m\u001b[0;34m\u001b[0m\u001b[0m\n\u001b[0;32m-> 7356\u001b[0;31m         \u001b[0mindex\u001b[0m \u001b[0;34m=\u001b[0m \u001b[0mextract_index\u001b[0m\u001b[0;34m(\u001b[0m\u001b[0marrays\u001b[0m\u001b[0;34m)\u001b[0m\u001b[0;34m\u001b[0m\u001b[0m\n\u001b[0m\u001b[1;32m   7357\u001b[0m \u001b[0;34m\u001b[0m\u001b[0m\n\u001b[1;32m   7358\u001b[0m     \u001b[0;31m# don't force copy because getting jammed in an ndarray anyway\u001b[0m\u001b[0;34m\u001b[0m\u001b[0;34m\u001b[0m\u001b[0m\n",
      "\u001b[0;32m/anaconda3/lib/python3.7/site-packages/pandas/core/frame.py\u001b[0m in \u001b[0;36mextract_index\u001b[0;34m(data)\u001b[0m\n\u001b[1;32m   7391\u001b[0m \u001b[0;34m\u001b[0m\u001b[0m\n\u001b[1;32m   7392\u001b[0m         \u001b[0;32mif\u001b[0m \u001b[0;32mnot\u001b[0m \u001b[0mindexes\u001b[0m \u001b[0;32mand\u001b[0m \u001b[0;32mnot\u001b[0m \u001b[0mraw_lengths\u001b[0m\u001b[0;34m:\u001b[0m\u001b[0;34m\u001b[0m\u001b[0m\n\u001b[0;32m-> 7393\u001b[0;31m             raise ValueError('If using all scalar values, you must pass'\n\u001b[0m\u001b[1;32m   7394\u001b[0m                              ' an index')\n\u001b[1;32m   7395\u001b[0m \u001b[0;34m\u001b[0m\u001b[0m\n",
      "\u001b[0;31mValueError\u001b[0m: If using all scalar values, you must pass an index"
     ]
    }
   ],
   "source": [
    "pd.DataFrame(Scores)"
   ]
  },
  {
   "cell_type": "code",
   "execution_count": null,
   "metadata": {},
   "outputs": [],
   "source": [
    "Ridge: 0.11781\n",
    "ElasticNet: 0.11807\n",
    "Lasso: 0.11920\n",
    "\n",
    "gradient boost: 0.12167\n",
    "    \n",
    "lgbm is 12.080\n",
    "\n",
    "xgboost 12.125"
   ]
  },
  {
   "cell_type": "code",
   "execution_count": 35,
   "metadata": {},
   "outputs": [
    {
     "data": {
      "text/html": [
       "<div>\n",
       "<style scoped>\n",
       "    .dataframe tbody tr th:only-of-type {\n",
       "        vertical-align: middle;\n",
       "    }\n",
       "\n",
       "    .dataframe tbody tr th {\n",
       "        vertical-align: top;\n",
       "    }\n",
       "\n",
       "    .dataframe thead th {\n",
       "        text-align: right;\n",
       "    }\n",
       "</style>\n",
       "<table border=\"1\" class=\"dataframe\">\n",
       "  <thead>\n",
       "    <tr style=\"text-align: right;\">\n",
       "      <th></th>\n",
       "      <th>Scores</th>\n",
       "    </tr>\n",
       "    <tr>\n",
       "      <th>Model Type</th>\n",
       "      <th></th>\n",
       "    </tr>\n",
       "  </thead>\n",
       "  <tbody>\n",
       "    <tr>\n",
       "      <th>Ridge</th>\n",
       "      <td>0.11781</td>\n",
       "    </tr>\n",
       "    <tr>\n",
       "      <th>Elastic Net</th>\n",
       "      <td>0.11807</td>\n",
       "    </tr>\n",
       "    <tr>\n",
       "      <th>Lasso</th>\n",
       "      <td>0.11920</td>\n",
       "    </tr>\n",
       "    <tr>\n",
       "      <th>XGBoost</th>\n",
       "      <td>0.12125</td>\n",
       "    </tr>\n",
       "    <tr>\n",
       "      <th>LGBM</th>\n",
       "      <td>0.12125</td>\n",
       "    </tr>\n",
       "    <tr>\n",
       "      <th>Gradient Boosting</th>\n",
       "      <td>0.12167</td>\n",
       "    </tr>\n",
       "    <tr>\n",
       "      <th>Random Forest</th>\n",
       "      <td>0.14231</td>\n",
       "    </tr>\n",
       "  </tbody>\n",
       "</table>\n",
       "</div>"
      ],
      "text/plain": [
       "                    Scores\n",
       "Model Type                \n",
       "Ridge              0.11781\n",
       "Elastic Net        0.11807\n",
       "Lasso              0.11920\n",
       "XGBoost            0.12125\n",
       "LGBM               0.12125\n",
       "Gradient Boosting  0.12167\n",
       "Random Forest      0.14231"
      ]
     },
     "execution_count": 35,
     "metadata": {},
     "output_type": "execute_result"
    }
   ],
   "source": [
    "df = pd.DataFrame({'Model Type': ['Ridge',\"Lasso\",\"Elastic Net\",'Random Forest',\"Gradient Boosting\", \"XGBoost\", \"LGBM\"],\n",
    "          'Scores': [.11781, .11920, 0.11807, 0.14231, .12167, .12125, .12125]})\n",
    "df = df.sort_values(by=['Scores'], ascending=True)\n",
    "df = df.set_index('Model Type')\n",
    "df"
   ]
  },
  {
   "cell_type": "code",
   "execution_count": null,
   "metadata": {},
   "outputs": [],
   "source": [
    "# Bar chart of model scores\n",
    "from matplotlib.pyplot import figure\n",
    "plt.bar(df['Model Type'], df['Scores'])\n",
    "plt.title('Model RMSE Scores')\n",
    "plt.ylabel('RMSE Score')\n",
    "plt.xlabel('Model')\n",
    "matplotlib.pyplot.ylim((0.098, .118)) \n",
    "# plt.savefig('./Scores_Bar_Graph.png', dpi=300)\n",
    "plt.figure(figsize=(15,15))\n",
    "plt.show()"
   ]
  },
  {
   "cell_type": "code",
   "execution_count": 39,
   "metadata": {},
   "outputs": [
    {
     "data": {
      "image/png": "[encoded data removed]",
      "text/plain": [
       "<Figure size 432x288 with 1 Axes>"
      ]
     },
     "metadata": {
      "needs_background": "light"
     },
     "output_type": "display_data"
    },
    {
     "data": {
      "text/plain": [
       "<Figure size 1080x1080 with 0 Axes>"
      ]
     },
     "metadata": {},
     "output_type": "display_data"
    }
   ],
   "source": [
    "from matplotlib.pyplot import figure\n",
    "\n",
    "df.plot(kind='barh', legend=None)\n",
    "plt.title('Kaggle Scores')\n",
    "plt.ylabel('Model')\n",
    "plt.xlabel('Score')\n",
    "matplotlib.pyplot.xlim((0.115, .143)) \n",
    "plt.savefig('Kagglescores.png', dpi=300, bbox_inches='tight')\n",
    "plt.figure(figsize=(15,15))\n",
    "\n",
    "\n",
    " \n",
    "\n",
    "plt.show()"
   ]
  },
  {
   "cell_type": "code",
   "execution_count": null,
   "metadata": {},
   "outputs": [],
   "source": []
  }
 ],
 "metadata": {
  "kernelspec": {
   "display_name": "Python 3",
   "language": "python",
   "name": "python3"
  },
  "language_info": {
   "codemirror_mode": {
    "name": "ipython",
    "version": 3
   },
   "file_extension": ".py",
   "mimetype": "text/x-python",
   "name": "python",
   "nbconvert_exporter": "python",
   "pygments_lexer": "ipython3",
   "version": "3.7.0"
  },
  "varInspector": {
   "cols": {
    "lenName": 16,
    "lenType": 16,
    "lenVar": 40
   },
   "kernels_config": {
    "python": {
     "delete_cmd_postfix": "",
     "delete_cmd_prefix": "del ",
     "library": "var_list.py",
     "varRefreshCmd": "print(var_dic_list())"
    },
    "r": {
     "delete_cmd_postfix": ") ",
     "delete_cmd_prefix": "rm(",
     "library": "var_list.r",
     "varRefreshCmd": "cat(var_dic_list()) "
    }
   },
   "position": {
    "height": "574.473px",
    "left": "815px",
    "right": "20px",
    "top": "107.984px",
    "width": "385.43px"
   },
   "types_to_exclude": [
    "module",
    "function",
    "builtin_function_or_method",
    "instance",
    "_Feature"
   ],
   "window_display": false
  }
 },
 "nbformat": 4,
 "nbformat_minor": 2
}
