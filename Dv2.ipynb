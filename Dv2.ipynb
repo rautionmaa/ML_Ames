{
 "cells": [
  {
   "cell_type": "code",
   "execution_count": 1,
   "metadata": {
    "ExecuteTime": {
     "end_time": "2019-03-01T22:23:49.855999Z",
     "start_time": "2019-03-01T22:23:48.715770Z"
    }
   },
   "outputs": [],
   "source": [
    "import pandas as pd\n",
    "import numpy as np\n",
    "import statsmodels.api as sm \n",
    "import itertools\n",
    "import sklearn.feature_selection\n",
    "import sklearn.model_selection as ms\n",
    "import pickle\n",
    "import matplotlib.pyplot as plt\n",
    "import matplotlib\n",
    "import seaborn as sns\n",
    "from scipy.stats import skew\n",
    "from sklearn.metrics import mean_squared_error, make_scorer\n",
    "from sklearn.linear_model import LinearRegression, Ridge, Lasso, ElasticNet, RidgeCV\n",
    "from scipy import stats\n",
    "from sklearn.preprocessing import normalize\n",
    "from scipy.stats import skew\n",
    "from scipy.special import boxcox1p\n",
    "from scipy.stats import boxcox_normmax\n",
    "plt.style.use('ggplot')\n",
    "pd.options.display.max_columns = None\n",
    "pd.options.display.max_rows = 600"
   ]
  },
  {
   "cell_type": "code",
   "execution_count": 2,
   "metadata": {
    "ExecuteTime": {
     "end_time": "2019-03-01T22:23:49.937054Z",
     "start_time": "2019-03-01T22:23:49.858410Z"
    }
   },
   "outputs": [],
   "source": [
    "df_train = pd.read_csv('train.csv')\n",
    "df_test = pd.read_csv('test.csv')\n",
    "train = pd.read_csv('train.csv')\n",
    "test = pd.read_csv('test.csv')"
   ]
  },
  {
   "cell_type": "code",
   "execution_count": 3,
   "metadata": {
    "ExecuteTime": {
     "end_time": "2019-03-01T22:23:50.706818Z",
     "start_time": "2019-03-01T22:23:50.473000Z"
    }
   },
   "outputs": [],
   "source": [
    "# Adding 'type' columns that contains 'train' or 'test', and add empty SalePrice columns to the test part\n",
    "train.insert(0, 'type', 'train')\n",
    "test.insert(0,'type','test')\n",
    "test['SalePrice'] = 0.0\n",
    "\n",
    "# merging the two dataframes\n",
    "merged = pd.concat([train,test],axis=0).reset_index(drop=True)\n",
    "merged['SalePrice'] = merged['SalePrice'].astype('float')\n",
    "\n",
    "# Data cleaning\n",
    "import Dprocessv2\n",
    "train = Dprocessv2.dataProcess(merged);"
   ]
  },
  {
   "cell_type": "code",
   "execution_count": 4,
   "metadata": {
    "ExecuteTime": {
     "end_time": "2019-03-01T22:23:51.322702Z",
     "start_time": "2019-03-01T22:23:51.283947Z"
    }
   },
   "outputs": [
    {
     "name": "stdout",
     "output_type": "stream",
     "text": [
      "NAs for numerical features in merged : 0\n"
     ]
    }
   ],
   "source": [
    "# numerical and categorical features + EXCLUDED FIRST\n",
    "excl_features = merged[['Id','type','SalePrice']].columns\n",
    "cat_features = merged.select_dtypes(include = [\"object\"]).columns.drop('type')\n",
    "num_features = merged.select_dtypes(exclude = [\"object\"]).columns.drop(['Id','SalePrice'])\n",
    "\n",
    "mergedNum = merged[num_features]\n",
    "mergedCat = merged[cat_features]\n",
    "mergedExc = merged[excl_features]\n",
    "\n",
    "mergedNAtotal = merged.isnull().sum().sort_values(ascending=False)\n",
    "\n",
    "print(\"NAs for numerical features in merged : \" + str(mergedNum.isnull().values.sum()))\n",
    "\n",
    "if mergedNum.isnull().values.sum() != 0:\n",
    "    mergedNum = mergedNum.fillna(mergedNum.median())\n",
    "    print(\"Remaining NAs for numerical features in merged : \" + str(mergedNum.isnull().values.sum()))"
   ]
  },
  {
   "cell_type": "code",
   "execution_count": 5,
   "metadata": {
    "ExecuteTime": {
     "end_time": "2019-03-01T22:23:52.353889Z",
     "start_time": "2019-03-01T22:23:52.331988Z"
    }
   },
   "outputs": [],
   "source": [
    "numeric_dtypes = ['int16', 'int32', 'int64', 'float16', 'float32', 'float64']\n",
    "numerics2 = []\n",
    "for i in merged.columns:\n",
    "    if merged[i].dtype in numeric_dtypes: \n",
    "        numerics2.append(i)\n",
    "\n",
    "skew_features = merged[numerics2].apply(lambda x: skew(x)).sort_values(ascending=False)\n",
    "skews = pd.DataFrame({'skew':skew_features})"
   ]
  },
  {
   "cell_type": "code",
   "execution_count": 6,
   "metadata": {
    "ExecuteTime": {
     "end_time": "2019-03-01T22:23:53.619044Z",
     "start_time": "2019-03-01T22:23:53.419941Z"
    }
   },
   "outputs": [
    {
     "name": "stderr",
     "output_type": "stream",
     "text": [
      "/Users/macpro/anaconda3/lib/python3.7/site-packages/scipy/stats/stats.py:3010: RuntimeWarning: invalid value encountered in double_scalars\n",
      "  r = r_num / r_den\n"
     ]
    }
   ],
   "source": [
    "high_skew = skew_features[skew_features > 0.5]\n",
    "high_skew = high_skew\n",
    "skew_index = high_skew.index\n",
    "\n",
    "for i in skew_index:\n",
    "    if i != 'SalePrice':\n",
    "        merged[i]= boxcox1p(merged[i], boxcox_normmax(merged[i]+1))\n",
    "\n",
    "        \n",
    "skew_features2 = merged[numerics2].apply(lambda x: skew(x)).sort_values(ascending=False)\n",
    "skews2 = pd.DataFrame({'skew':skew_features2})"
   ]
  },
  {
   "cell_type": "code",
   "execution_count": 7,
   "metadata": {
    "ExecuteTime": {
     "end_time": "2019-03-01T22:23:54.527744Z",
     "start_time": "2019-03-01T22:23:54.475964Z"
    }
   },
   "outputs": [
    {
     "name": "stdout",
     "output_type": "stream",
     "text": [
      "Remaining NAs for categorical features in merged : 0\n",
      "NAs for categorical features in merged : 0\n"
     ]
    }
   ],
   "source": [
    "# Create dummy features for categorical values via one-hot encoding\n",
    "\n",
    "print(\"Remaining NAs for categorical features in merged : \" + str(mergedCat.isnull().values.sum()))\n",
    "\n",
    "print(\"NAs for categorical features in merged : \" + str(mergedCat.isnull().values.sum()))\n",
    "\n",
    "mergedCat = pd.get_dummies(mergedCat)\n"
   ]
  },
  {
   "cell_type": "code",
   "execution_count": 8,
   "metadata": {
    "ExecuteTime": {
     "end_time": "2019-03-01T22:23:55.392987Z",
     "start_time": "2019-03-01T22:23:55.386499Z"
    }
   },
   "outputs": [
    {
     "name": "stdout",
     "output_type": "stream",
     "text": [
      "New number of features : 292\n"
     ]
    }
   ],
   "source": [
    "# rejoin excluded, categorical and numerical features\n",
    "merged = pd.concat([mergedExc,mergedNum, mergedCat], axis = 1)\n",
    "\n",
    "print(\"New number of features : \" + str(merged.shape[1]))"
   ]
  },
  {
   "cell_type": "code",
   "execution_count": 9,
   "metadata": {
    "ExecuteTime": {
     "end_time": "2019-03-01T22:23:56.056148Z",
     "start_time": "2019-03-01T22:23:56.051763Z"
    }
   },
   "outputs": [
    {
     "data": {
      "text/plain": [
       "(2916, 292)"
      ]
     },
     "execution_count": 9,
     "metadata": {},
     "output_type": "execute_result"
    }
   ],
   "source": [
    "merged.shape"
   ]
  },
  {
   "cell_type": "code",
   "execution_count": 10,
   "metadata": {
    "ExecuteTime": {
     "end_time": "2019-03-01T22:23:57.123513Z",
     "start_time": "2019-03-01T22:23:57.045978Z"
    }
   },
   "outputs": [
    {
     "name": "stderr",
     "output_type": "stream",
     "text": [
      "/Users/macpro/anaconda3/lib/python3.7/site-packages/pandas/core/frame.py:3697: SettingWithCopyWarning: \n",
      "A value is trying to be set on a copy of a slice from a DataFrame\n",
      "\n",
      "See the caveats in the documentation: http://pandas.pydata.org/pandas-docs/stable/indexing.html#indexing-view-versus-copy\n",
      "  errors=errors)\n"
     ]
    }
   ],
   "source": [
    "train = merged[merged['type'] == 'train']\n",
    "train.drop(columns=['Id','type'],inplace=True)\n",
    "test = merged[merged['type'] == 'test']\n",
    "test.drop(columns=['type','SalePrice'],inplace=True)"
   ]
  },
  {
   "cell_type": "code",
   "execution_count": 11,
   "metadata": {
    "ExecuteTime": {
     "end_time": "2019-03-01T22:23:58.064867Z",
     "start_time": "2019-03-01T22:23:58.019412Z"
    }
   },
   "outputs": [
    {
     "name": "stderr",
     "output_type": "stream",
     "text": [
      "/Users/macpro/anaconda3/lib/python3.7/site-packages/ipykernel_launcher.py:3: SettingWithCopyWarning: \n",
      "A value is trying to be set on a copy of a slice from a DataFrame.\n",
      "Try using .loc[row_indexer,col_indexer] = value instead\n",
      "\n",
      "See the caveats in the documentation: http://pandas.pydata.org/pandas-docs/stable/indexing.html#indexing-view-versus-copy\n",
      "  This is separate from the ipykernel package so we can avoid doing imports until\n"
     ]
    },
    {
     "data": {
      "text/plain": [
       "count    1457.000000\n",
       "mean       12.023714\n",
       "std         0.399695\n",
       "min        10.460242\n",
       "25%        11.774520\n",
       "50%        12.001505\n",
       "75%        12.273731\n",
       "max        13.534473\n",
       "Name: SalePrice, dtype: float64"
      ]
     },
     "execution_count": 11,
     "metadata": {},
     "output_type": "execute_result"
    }
   ],
   "source": [
    "# taking the log of the saleprice\n",
    "\n",
    "train['SalePrice'] = np.log(train['SalePrice'])\n",
    "train['SalePrice'].describe()"
   ]
  },
  {
   "cell_type": "markdown",
   "metadata": {
    "heading_collapsed": true
   },
   "source": [
    "### Linear Regression"
   ]
  },
  {
   "cell_type": "code",
   "execution_count": null,
   "metadata": {
    "ExecuteTime": {
     "end_time": "2019-03-01T02:36:02.710162Z",
     "start_time": "2019-03-01T02:36:02.671086Z"
    },
    "hidden": true,
    "scrolled": true
   },
   "outputs": [],
   "source": [
    "import pandas as pd\n",
    "import matplotlib.pyplot as plt\n",
    "import seaborn as sns\n",
    "import numpy as np\n",
    "import re\n",
    "import sklearn.model_selection as ms\n",
    "from scipy.stats import norm\n",
    "from scipy.stats import skew\n",
    "from sklearn.preprocessing import StandardScaler\n",
    "from sklearn.linear_model import LinearRegression, RidgeCV, LassoCV, ElasticNetCV\n",
    "from sklearn.ensemble import (GradientBoostingRegressor , RandomForestRegressor,\n",
    "                              BaggingRegressor,ExtraTreesRegressor,AdaBoostRegressor)\n",
    "from scipy import stats\n",
    "from sklearn.model_selection import cross_val_score, train_test_split\n",
    "from sklearn.metrics import mean_squared_error, make_scorer\n",
    "import warnings\n",
    "warnings.filterwarnings('ignore')\n",
    "%matplotlib inline\n",
    "\n",
    "pd.set_option('display.max_columns', 85)\n",
    "pd.set_option('display.max_rows', 85)"
   ]
  },
  {
   "cell_type": "code",
   "execution_count": null,
   "metadata": {
    "ExecuteTime": {
     "end_time": "2019-03-01T02:36:02.714795Z",
     "start_time": "2019-03-01T02:36:02.712213Z"
    },
    "hidden": true
   },
   "outputs": [],
   "source": [
    "y = train.SalePrice"
   ]
  },
  {
   "cell_type": "markdown",
   "metadata": {},
   "source": [
    "## Defining the train/test split (80/20)"
   ]
  },
  {
   "cell_type": "code",
   "execution_count": 12,
   "metadata": {
    "ExecuteTime": {
     "end_time": "2019-03-01T22:24:02.547169Z",
     "start_time": "2019-03-01T22:24:02.540062Z"
    }
   },
   "outputs": [],
   "source": [
    "house_features = train.drop('SalePrice',axis = 1)\n",
    "prices = train['SalePrice']\n",
    "\n",
    "x_train, x_test, y_train, y_test = ms.train_test_split(house_features, prices, \n",
    "                                                       test_size=1.0/5, random_state=111)"
   ]
  },
  {
   "cell_type": "markdown",
   "metadata": {},
   "source": [
    "## Ridge"
   ]
  },
  {
   "cell_type": "code",
   "execution_count": 13,
   "metadata": {
    "ExecuteTime": {
     "end_time": "2019-03-01T22:24:03.644270Z",
     "start_time": "2019-03-01T22:24:03.637815Z"
    },
    "hide_input": false
   },
   "outputs": [],
   "source": [
    "def goridcv(x, y, alphas_=np.linspace(1e-5,20,10000),\n",
    "            normalize_=True,\n",
    "            scoring_=None,\n",
    "            verbose_=True):\n",
    "    \n",
    "    global ridcv\n",
    "    ridcv = RidgeCV(alphas=alphas_, normalize=normalize_, scoring=scoring_)\n",
    "    ridcv.fit(x, y)\n",
    "    \n",
    "    if verbose_ == True:\n",
    "        print('The best alpha is: {:.6f}'.format(ridcv.alpha_))\n",
    "        print('\\n')\n",
    "        print('The RMSE is: {}'.format(mean_squared_error(y_true=y, y_pred=ridcv.predict(x))))\n",
    "        print('\\n')\n",
    "        print('The ridge intercept is: {:.2f}'.format(ridcv.intercept_))\n",
    "        print('\\n')\n",
    "        print(pd.Series(ridcv.coef_, index=x.columns))\n",
    "        print('\\n')\n",
    "        print('The model score is {:.4f}'.format(ridcv.score(x, y)))\n",
    "        \n",
    "    return ridcv"
   ]
  },
  {
   "cell_type": "code",
   "execution_count": 14,
   "metadata": {
    "ExecuteTime": {
     "end_time": "2019-03-01T22:24:33.155824Z",
     "start_time": "2019-03-01T22:24:05.890984Z"
    },
    "scrolled": true
   },
   "outputs": [
    {
     "name": "stdout",
     "output_type": "stream",
     "text": [
      "The best alpha is: 0.230033\n",
      "\n",
      "\n",
      "The RMSE is: 0.009096510285161062\n",
      "\n",
      "\n",
      "The ridge intercept is: 7.83\n",
      "\n",
      "\n",
      "LotFrontage              0.000607\n",
      "LotArea                  0.000002\n",
      "OverallQual              0.030261\n",
      "OverallCond              0.022356\n",
      "YearBuilt                0.000449\n",
      "YearRemodAdd             0.000657\n",
      "MasVnrArea               0.000044\n",
      "ExterQual                0.021452\n",
      "ExterCond               -0.003655\n",
      "BsmtQual                 0.013824\n",
      "BsmtCond                 0.008524\n",
      "BsmtFinSF1               0.000055\n",
      "BsmtFinSF2               0.000029\n",
      "BsmtUnfSF                0.000008\n",
      "TotalBsmtSF              0.000071\n",
      "HeatingQC                0.011261\n",
      "1stFlrSF                 0.000089\n",
      "2ndFlrSF                 0.000049\n",
      "LowQualFinSF            -0.000002\n",
      "GrLivArea                0.000086\n",
      "BsmtFullBath             0.021169\n",
      "BsmtHalfBath             0.004105\n",
      "FullBath                 0.035199\n",
      "HalfBath                 0.031139\n",
      "BedroomAbvGr             0.003516\n",
      "KitchenAbvGr            -0.018924\n",
      "KitchenQual              0.028188\n",
      "TotRmsAbvGrd             0.011347\n",
      "Fireplaces               0.016663\n",
      "FireplaceQu              0.005911\n",
      "GarageYrBlt              0.000241\n",
      "GarageCars               0.025509\n",
      "GarageArea               0.000093\n",
      "GarageQual               0.008462\n",
      "GarageCond               0.003242\n",
      "PavedDrive               0.014804\n",
      "WoodDeckSF               0.000086\n",
      "OpenPorchSF              0.000110\n",
      "EnclosedPorch            0.000034\n",
      "3SsnPorch                0.000139\n",
      "ScreenPorch              0.000195\n",
      "PoolArea                 0.000173\n",
      "PoolQC                   0.013639\n",
      "MiscVal                  0.000004\n",
      "MSSubClass_120           0.008191\n",
      "MSSubClass_150           0.000000\n",
      "MSSubClass_160          -0.047922\n",
      "MSSubClass_180          -0.061520\n",
      "MSSubClass_190           0.002981\n",
      "MSSubClass_20            0.005937\n",
      "MSSubClass_30           -0.057104\n",
      "MSSubClass_40            0.086586\n",
      "MSSubClass_45           -0.030863\n",
      "MSSubClass_50            0.011790\n",
      "MSSubClass_60            0.011731\n",
      "MSSubClass_70            0.019294\n",
      "MSSubClass_75           -0.013175\n",
      "MSSubClass_80            0.001426\n",
      "MSSubClass_85           -0.013511\n",
      "MSSubClass_90           -0.001767\n",
      "MSZoning_C (all)        -0.355602\n",
      "MSZoning_FV              0.038643\n",
      "MSZoning_RH              0.030836\n",
      "MSZoning_RL              0.021533\n",
      "MSZoning_RM             -0.023444\n",
      "Street_Grvl             -0.034596\n",
      "Street_Pave              0.034596\n",
      "Alley_Grvl               0.000083\n",
      "Alley_None              -0.009629\n",
      "Alley_Pave               0.021066\n",
      "LotShape_IR1             0.000781\n",
      "LotShape_IR2             0.021840\n",
      "LotShape_IR3             0.007200\n",
      "LotShape_Reg            -0.003440\n",
      "LandContour_Bnk         -0.002723\n",
      "LandContour_HLS          0.004865\n",
      "LandContour_Low         -0.018855\n",
      "LandContour_Lvl          0.004227\n",
      "Utilities_AllPub         0.087930\n",
      "Utilities_NoSeWa        -0.087930\n",
      "LotConfig_Corner         0.007210\n",
      "LotConfig_CulDSac        0.035930\n",
      "LotConfig_FR2           -0.030534\n",
      "LotConfig_FR3           -0.003375\n",
      "LotConfig_Inside        -0.012347\n",
      "LandSlope_Gtl            0.003158\n",
      "LandSlope_Mod            0.012337\n",
      "LandSlope_Sev           -0.076250\n",
      "Neighborhood_Blmngtn    -0.012808\n",
      "Neighborhood_Blueste     0.016897\n",
      "Neighborhood_BrDale     -0.017880\n",
      "Neighborhood_BrkSide     0.025260\n",
      "Neighborhood_ClearCr     0.010000\n",
      "Neighborhood_CollgCr    -0.007663\n",
      "Neighborhood_Crawfor     0.092155\n",
      "Neighborhood_Edwards    -0.033911\n",
      "Neighborhood_Gilbert    -0.011011\n",
      "Neighborhood_IDOTRR     -0.027851\n",
      "Neighborhood_MeadowV    -0.120348\n",
      "Neighborhood_Mitchel    -0.024571\n",
      "Neighborhood_NAmes      -0.021988\n",
      "Neighborhood_NPkVill     0.001615\n",
      "Neighborhood_NWAmes     -0.016003\n",
      "Neighborhood_NoRidge     0.052084\n",
      "Neighborhood_NridgHt     0.067907\n",
      "Neighborhood_OldTown    -0.030036\n",
      "Neighborhood_SWISU       0.015621\n",
      "Neighborhood_Sawyer     -0.022149\n",
      "Neighborhood_SawyerW     0.000289\n",
      "Neighborhood_Somerst     0.032512\n",
      "Neighborhood_StoneBr     0.109315\n",
      "Neighborhood_Timber      0.010764\n",
      "Neighborhood_Veenker     0.039204\n",
      "Condition1_Artery       -0.045534\n",
      "Condition1_Feedr        -0.030045\n",
      "Condition1_Norm          0.027332\n",
      "Condition1_PosA         -0.009770\n",
      "Condition1_PosN          0.008079\n",
      "Condition1_RRAe         -0.054039\n",
      "Condition1_RRAn          0.008103\n",
      "Condition1_RRNe         -0.041926\n",
      "Condition1_RRNn          0.020149\n",
      "Condition2_Artery       -0.128523\n",
      "Condition2_Feedr         0.088513\n",
      "Condition2_Norm         -0.009130\n",
      "Condition2_PosA          0.158974\n",
      "Condition2_PosN         -0.086697\n",
      "Condition2_RRAe          0.000000\n",
      "Condition2_RRAn         -0.061749\n",
      "Condition2_RRNn         -0.003644\n",
      "BldgType_1Fam            0.011492\n",
      "BldgType_2fmCon          0.009624\n",
      "BldgType_Duplex         -0.001767\n",
      "BldgType_Twnhs          -0.023172\n",
      "BldgType_TwnhsE         -0.013781\n",
      "HouseStyle_1.5Fin        0.002641\n",
      "HouseStyle_1.5Unf        0.063158\n",
      "HouseStyle_1Story       -0.011499\n",
      "HouseStyle_2.5Fin       -0.052567\n",
      "HouseStyle_2.5Unf        0.062654\n",
      "HouseStyle_2Story        0.007743\n",
      "HouseStyle_SFoyer        0.000767\n",
      "HouseStyle_SLvl          0.002589\n",
      "RoofStyle_Flat           0.033096\n",
      "RoofStyle_Gable         -0.008508\n",
      "RoofStyle_Gambrel       -0.018787\n",
      "RoofStyle_Hip            0.006537\n",
      "RoofStyle_Mansard        0.029680\n",
      "RoofStyle_Shed           0.204724\n",
      "RoofMatl_CompShg         0.011841\n",
      "RoofMatl_Membran         0.000000\n",
      "RoofMatl_Metal           0.100606\n",
      "RoofMatl_Roll           -0.037239\n",
      "RoofMatl_Tar&Grv        -0.038011\n",
      "RoofMatl_WdShake        -0.036789\n",
      "RoofMatl_WdShngl         0.054114\n",
      "Exterior1st_AsbShng     -0.046041\n",
      "Exterior1st_AsphShn      0.000000\n",
      "Exterior1st_BrkComm     -0.222615\n",
      "Exterior1st_BrkFace      0.066204\n",
      "Exterior1st_CBlock      -0.040837\n",
      "Exterior1st_CemntBd      0.014969\n",
      "Exterior1st_HdBoard     -0.011988\n",
      "Exterior1st_ImStucc      0.019620\n",
      "Exterior1st_MetalSd      0.004433\n",
      "Exterior1st_Plywood      0.007301\n",
      "Exterior1st_Stone        0.068661\n",
      "Exterior1st_Stucco       0.030179\n",
      "Exterior1st_VinylSd      0.004196\n",
      "Exterior1st_Wd Sdng     -0.024009\n",
      "Exterior1st_WdShing      0.001717\n",
      "Exterior2nd_AsbShng      0.010731\n",
      "Exterior2nd_AsphShn      0.035758\n",
      "Exterior2nd_Brk Cmn      0.009042\n",
      "Exterior2nd_BrkFace     -0.040748\n",
      "Exterior2nd_CBlock      -0.040837\n",
      "Exterior2nd_CmentBd      0.025117\n",
      "Exterior2nd_HdBoard     -0.010130\n",
      "Exterior2nd_ImStucc      0.004512\n",
      "Exterior2nd_MetalSd      0.002151\n",
      "Exterior2nd_Other       -0.051950\n",
      "Exterior2nd_Plywood     -0.009553\n",
      "Exterior2nd_Stone       -0.047033\n",
      "Exterior2nd_Stucco      -0.019279\n",
      "Exterior2nd_VinylSd      0.000720\n",
      "Exterior2nd_Wd Sdng      0.016622\n",
      "Exterior2nd_Wd Shng     -0.015224\n",
      "MasVnrType_BrkCmn       -0.042564\n",
      "MasVnrType_BrkFace      -0.003710\n",
      "MasVnrType_None         -0.003382\n",
      "MasVnrType_Stone         0.025343\n",
      "Foundation_BrkTil       -0.018706\n",
      "Foundation_CBlock       -0.007483\n",
      "Foundation_PConc         0.013991\n",
      "Foundation_Slab          0.008888\n",
      "Foundation_Stone        -0.008208\n",
      "Foundation_Wood         -0.008310\n",
      "BsmtExposure_Av         -0.000941\n",
      "BsmtExposure_Gd          0.044668\n",
      "BsmtExposure_Mn         -0.006497\n",
      "BsmtExposure_No         -0.013041\n",
      "BsmtExposure_None       -0.005565\n",
      "BsmtFinType1_ALQ         0.003428\n",
      "BsmtFinType1_BLQ        -0.004286\n",
      "BsmtFinType1_GLQ         0.019884\n",
      "BsmtFinType1_LwQ        -0.020834\n",
      "BsmtFinType1_None        0.000702\n",
      "BsmtFinType1_Rec         0.000105\n",
      "BsmtFinType1_Unf        -0.015298\n",
      "BsmtFinType2_ALQ         0.033419\n",
      "BsmtFinType2_BLQ        -0.034854\n",
      "BsmtFinType2_GLQ         0.039164\n",
      "BsmtFinType2_LwQ         0.001696\n",
      "BsmtFinType2_None       -0.005172\n",
      "BsmtFinType2_Rec         0.001539\n",
      "BsmtFinType2_Unf         0.000482\n",
      "Heating_Floor           -0.128519\n",
      "Heating_GasA            -0.003448\n",
      "Heating_GasW             0.066438\n",
      "Heating_Grav            -0.144947\n",
      "Heating_OthW            -0.014637\n",
      "Heating_Wall             0.022938\n",
      "CentralAir_N            -0.030936\n",
      "CentralAir_Y             0.030936\n",
      "Electrical_FuseA         0.012169\n",
      "Electrical_FuseF        -0.000253\n",
      "Electrical_FuseP         0.003465\n",
      "Electrical_Mix           0.026460\n",
      "Electrical_SBrkr        -0.009257\n",
      "Functional_Maj1         -0.022838\n",
      "Functional_Maj2         -0.196027\n",
      "Functional_Min1          0.008843\n",
      "Functional_Min2         -0.006350\n",
      "Functional_Mod          -0.088962\n",
      "Functional_Sev           0.000000\n",
      "Functional_Typ           0.029760\n",
      "GarageType_2Types       -0.084900\n",
      "GarageType_Attchd        0.005414\n",
      "GarageType_Basment      -0.005123\n",
      "GarageType_BuiltIn       0.018590\n",
      "GarageType_CarPort      -0.029600\n",
      "GarageType_Detchd       -0.005218\n",
      "GarageType_None         -0.014704\n",
      "GarageFinish_Fin         0.009137\n",
      "GarageFinish_None       -0.014704\n",
      "GarageFinish_RFn         0.002913\n",
      "GarageFinish_Unf        -0.006376\n",
      "Fence_GdPrv             -0.009725\n",
      "Fence_GdWo              -0.028154\n",
      "Fence_MnPrv              0.002887\n",
      "Fence_MnWw               0.008870\n",
      "Fence_None               0.006628\n",
      "MiscFeature_Gar2         0.008709\n",
      "MiscFeature_None        -0.003393\n",
      "MiscFeature_Othr        -0.031702\n",
      "MiscFeature_Shed         0.004170\n",
      "MiscFeature_TenC         0.000000\n",
      "MoSold_1                -0.020949\n",
      "MoSold_10               -0.012789\n",
      "MoSold_11               -0.005736\n",
      "MoSold_12                0.013574\n",
      "MoSold_2                -0.012509\n",
      "MoSold_3                -0.009151\n",
      "MoSold_4                -0.004363\n",
      "MoSold_5                 0.010537\n",
      "MoSold_6                 0.005936\n",
      "MoSold_7                 0.004483\n",
      "MoSold_8                 0.002905\n",
      "MoSold_9                -0.005037\n",
      "YrSold_2006              0.008194\n",
      "YrSold_2007             -0.002824\n",
      "YrSold_2008              0.004782\n",
      "YrSold_2009             -0.010459\n",
      "YrSold_2010              0.002038\n",
      "SaleType_COD            -0.013263\n",
      "SaleType_CWD             0.070364\n",
      "SaleType_Con             0.077427\n",
      "SaleType_ConLD           0.062190\n",
      "SaleType_ConLI          -0.094622\n",
      "SaleType_ConLw          -0.024713\n",
      "SaleType_New             0.025167\n",
      "SaleType_Oth             0.038548\n",
      "SaleType_WD             -0.016794\n",
      "SaleCondition_Abnorml   -0.043049\n",
      "SaleCondition_AdjLand    0.015475\n",
      "SaleCondition_Alloca    -0.009530\n",
      "SaleCondition_Family    -0.056739\n",
      "SaleCondition_Normal     0.016316\n",
      "SaleCondition_Partial    0.018936\n",
      "dtype: float64\n",
      "\n",
      "\n",
      "The model score is 0.9438\n"
     ]
    },
    {
     "data": {
      "text/plain": [
       "RidgeCV(alphas=array([1.0000e-05, 2.0102e-03, ..., 1.9998e+01, 2.0000e+01]),\n",
       "    cv=None, fit_intercept=True, gcv_mode=None, normalize=True,\n",
       "    scoring=None, store_cv_values=False)"
      ]
     },
     "execution_count": 14,
     "metadata": {},
     "output_type": "execute_result"
    }
   ],
   "source": [
    "goridcv(x_train,y_train)"
   ]
  },
  {
   "cell_type": "code",
   "execution_count": 15,
   "metadata": {
    "ExecuteTime": {
     "end_time": "2019-03-01T22:24:37.331560Z",
     "start_time": "2019-03-01T22:24:37.326171Z"
    }
   },
   "outputs": [
    {
     "data": {
      "text/plain": [
       "0.013035277778544725"
      ]
     },
     "execution_count": 15,
     "metadata": {},
     "output_type": "execute_result"
    }
   ],
   "source": [
    "mean_squared_error(y_true=y_test, y_pred=ridcv.predict(x_test))"
   ]
  },
  {
   "cell_type": "code",
   "execution_count": null,
   "metadata": {
    "ExecuteTime": {
     "end_time": "2019-03-01T22:09:32.414322Z",
     "start_time": "2019-03-01T22:09:32.411853Z"
    }
   },
   "outputs": [],
   "source": []
  },
  {
   "cell_type": "code",
   "execution_count": 16,
   "metadata": {
    "ExecuteTime": {
     "end_time": "2019-03-01T22:24:40.978421Z",
     "start_time": "2019-03-01T22:24:40.961477Z"
    }
   },
   "outputs": [],
   "source": [
    "pd.DataFrame({'Id': test['Id'], 'SalePrice': np.exp(ridcv.predict(test.drop(columns='Id')))}).to_csv('outv2.csv',index=False)"
   ]
  },
  {
   "cell_type": "code",
   "execution_count": null,
   "metadata": {},
   "outputs": [],
   "source": []
  }
 ],
 "metadata": {
  "kernelspec": {
   "display_name": "Python 3",
   "language": "python",
   "name": "python3"
  },
  "language_info": {
   "codemirror_mode": {
    "name": "ipython",
    "version": 3
   },
   "file_extension": ".py",
   "mimetype": "text/x-python",
   "name": "python",
   "nbconvert_exporter": "python",
   "pygments_lexer": "ipython3",
   "version": "3.7.1"
  },
  "varInspector": {
   "cols": {
    "lenName": 16,
    "lenType": 16,
    "lenVar": 40
   },
   "kernels_config": {
    "python": {
     "delete_cmd_postfix": "",
     "delete_cmd_prefix": "del ",
     "library": "var_list.py",
     "varRefreshCmd": "print(var_dic_list())"
    },
    "r": {
     "delete_cmd_postfix": ") ",
     "delete_cmd_prefix": "rm(",
     "library": "var_list.r",
     "varRefreshCmd": "cat(var_dic_list()) "
    }
   },
   "position": {
    "height": "574.473px",
    "left": "815px",
    "right": "20px",
    "top": "107.984px",
    "width": "385.43px"
   },
   "types_to_exclude": [
    "module",
    "function",
    "builtin_function_or_method",
    "instance",
    "_Feature"
   ],
   "window_display": false
  }
 },
 "nbformat": 4,
 "nbformat_minor": 2
}
