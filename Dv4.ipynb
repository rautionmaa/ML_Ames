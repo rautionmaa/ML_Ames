{
 "cells": [
  {
   "cell_type": "code",
   "execution_count": 1,
   "metadata": {
    "ExecuteTime": {
     "end_time": "2019-03-03T23:43:52.813137Z",
     "start_time": "2019-03-03T23:43:51.648745Z"
    }
   },
   "outputs": [],
   "source": [
    "import pandas as pd\n",
    "import numpy as np\n",
    "import statsmodels.api as sm \n",
    "import itertools\n",
    "import sklearn.feature_selection\n",
    "import sklearn.model_selection as ms\n",
    "import pickle\n",
    "import matplotlib.pyplot as plt\n",
    "import matplotlib\n",
    "import seaborn as sns\n",
    "import datetime\n",
    "import xgboost as xgb\n",
    "from scipy.stats import skew\n",
    "from sklearn.metrics import mean_squared_error, make_scorer\n",
    "from sklearn.linear_model import LinearRegression, Ridge, Lasso, ElasticNet, RidgeCV, LassoCV, ElasticNetCV\n",
    "from scipy import stats\n",
    "from sklearn.preprocessing import normalize\n",
    "from scipy.stats import skew\n",
    "from scipy.special import boxcox1p\n",
    "from scipy.stats import boxcox_normmax\n",
    "plt.style.use('ggplot')\n",
    "pd.options.display.max_columns = None\n",
    "pd.options.display.max_rows = 600"
   ]
  },
  {
   "cell_type": "code",
   "execution_count": 2,
   "metadata": {
    "ExecuteTime": {
     "end_time": "2019-03-03T23:43:53.469900Z",
     "start_time": "2019-03-03T23:43:53.392775Z"
    }
   },
   "outputs": [],
   "source": [
    "df_train = pd.read_csv('train.csv')\n",
    "df_test = pd.read_csv('test.csv')\n",
    "train = pd.read_csv('train.csv')\n",
    "test = pd.read_csv('test.csv')"
   ]
  },
  {
   "cell_type": "code",
   "execution_count": 3,
   "metadata": {
    "ExecuteTime": {
     "end_time": "2019-03-03T23:43:54.163289Z",
     "start_time": "2019-03-03T23:43:54.102349Z"
    }
   },
   "outputs": [],
   "source": [
    "# Adding 'type' columns that contains 'train' or 'test', and add empty SalePrice columns to the test part\n",
    "train.insert(0, 'type', 'train')\n",
    "test.insert(0,'type','test')\n",
    "test['SalePrice'] = 0.0\n",
    "\n",
    "# merging the two dataframes\n",
    "merged = pd.concat([train,test],axis=0).reset_index(drop=True)\n",
    "merged['SalePrice'] = merged['SalePrice'].astype('float')\n",
    "\n",
    "# Data cleaning\n",
    "import Dprocessv4\n",
    "train = Dprocessv4.dataProcess(merged);"
   ]
  },
  {
   "cell_type": "code",
   "execution_count": 4,
   "metadata": {
    "ExecuteTime": {
     "end_time": "2019-03-03T23:43:54.774904Z",
     "start_time": "2019-03-03T23:43:54.735622Z"
    }
   },
   "outputs": [
    {
     "name": "stdout",
     "output_type": "stream",
     "text": [
      "NAs for numerical features in merged : 0\n"
     ]
    }
   ],
   "source": [
    "# numerical and categorical features + EXCLUDED FIRST\n",
    "excl_features = merged[['Id','type','SalePrice']].columns\n",
    "cat_features = merged.select_dtypes(include = [\"object\"]).columns.drop('type')\n",
    "num_features = merged.select_dtypes(exclude = [\"object\"]).columns.drop(['Id','SalePrice'])\n",
    "\n",
    "mergedNum = merged[num_features]\n",
    "mergedCat = merged[cat_features]\n",
    "mergedExc = merged[excl_features]\n",
    "\n",
    "mergedNAtotal = merged.isnull().sum().sort_values(ascending=False)\n",
    "\n",
    "print(\"NAs for numerical features in merged : \" + str(mergedNum.isnull().values.sum()))\n",
    "\n",
    "if mergedNum.isnull().values.sum() != 0:\n",
    "    mergedNum = mergedNum.fillna(mergedNum.median())\n",
    "    print(\"Remaining NAs for numerical features in merged : \" + str(mergedNum.isnull().values.sum()))"
   ]
  },
  {
   "cell_type": "code",
   "execution_count": 5,
   "metadata": {
    "ExecuteTime": {
     "end_time": "2019-03-03T23:43:55.363215Z",
     "start_time": "2019-03-03T23:43:55.343590Z"
    }
   },
   "outputs": [],
   "source": [
    "numeric_dtypes = ['int16', 'int32', 'int64', 'float16', 'float32', 'float64']\n",
    "numerics2 = []\n",
    "for i in merged.columns:\n",
    "    if merged[i].dtype in numeric_dtypes: \n",
    "        numerics2.append(i)\n",
    "\n",
    "skew_features = merged[numerics2].apply(lambda x: skew(x)).sort_values(ascending=False)\n",
    "skews = pd.DataFrame({'skew':skew_features})"
   ]
  },
  {
   "cell_type": "code",
   "execution_count": 6,
   "metadata": {
    "ExecuteTime": {
     "end_time": "2019-03-03T23:43:56.348137Z",
     "start_time": "2019-03-03T23:43:56.054040Z"
    }
   },
   "outputs": [],
   "source": [
    "high_skew = skew_features[skew_features > 0.5]\n",
    "high_skew = high_skew\n",
    "skew_index = high_skew.index\n",
    "\n",
    "for i in skew_index:\n",
    "    if i != 'SalePrice':\n",
    "        merged[i]= boxcox1p(merged[i], boxcox_normmax(merged[i]+1))\n",
    "\n",
    "        \n",
    "skew_features2 = merged[numerics2].apply(lambda x: skew(x)).sort_values(ascending=False)\n",
    "skews2 = pd.DataFrame({'skew':skew_features2})"
   ]
  },
  {
   "cell_type": "code",
   "execution_count": 7,
   "metadata": {
    "ExecuteTime": {
     "end_time": "2019-03-03T23:43:57.349140Z",
     "start_time": "2019-03-03T23:43:57.287138Z"
    }
   },
   "outputs": [
    {
     "name": "stdout",
     "output_type": "stream",
     "text": [
      "Remaining NAs for categorical features in merged : 0\n",
      "NAs for categorical features in merged : 0\n"
     ]
    }
   ],
   "source": [
    "# Create dummy features for categorical values via one-hot encoding\n",
    "\n",
    "print(\"Remaining NAs for categorical features in merged : \" + str(mergedCat.isnull().values.sum()))\n",
    "\n",
    "print(\"NAs for categorical features in merged : \" + str(mergedCat.isnull().values.sum()))\n",
    "\n",
    "mergedCat = pd.get_dummies(mergedCat)\n"
   ]
  },
  {
   "cell_type": "code",
   "execution_count": 8,
   "metadata": {
    "ExecuteTime": {
     "end_time": "2019-03-03T23:43:58.223195Z",
     "start_time": "2019-03-03T23:43:58.216276Z"
    }
   },
   "outputs": [
    {
     "name": "stdout",
     "output_type": "stream",
     "text": [
      "New number of features : 335\n"
     ]
    }
   ],
   "source": [
    "# rejoin excluded, categorical and numerical features\n",
    "merged = pd.concat([mergedExc,mergedNum, mergedCat], axis = 1)\n",
    "\n",
    "print(\"New number of features : \" + str(merged.shape[1]))"
   ]
  },
  {
   "cell_type": "code",
   "execution_count": 9,
   "metadata": {
    "ExecuteTime": {
     "end_time": "2019-03-03T23:44:03.204584Z",
     "start_time": "2019-03-03T23:44:03.199760Z"
    }
   },
   "outputs": [
    {
     "data": {
      "text/plain": [
       "(2915, 335)"
      ]
     },
     "execution_count": 9,
     "metadata": {},
     "output_type": "execute_result"
    }
   ],
   "source": [
    "merged.shape"
   ]
  },
  {
   "cell_type": "code",
   "execution_count": 10,
   "metadata": {
    "ExecuteTime": {
     "end_time": "2019-03-03T23:44:05.781692Z",
     "start_time": "2019-03-03T23:44:05.705819Z"
    }
   },
   "outputs": [
    {
     "name": "stderr",
     "output_type": "stream",
     "text": [
      "/Users/macpro/anaconda3/lib/python3.7/site-packages/pandas/core/frame.py:3697: SettingWithCopyWarning: \n",
      "A value is trying to be set on a copy of a slice from a DataFrame\n",
      "\n",
      "See the caveats in the documentation: http://pandas.pydata.org/pandas-docs/stable/indexing.html#indexing-view-versus-copy\n",
      "  errors=errors)\n"
     ]
    }
   ],
   "source": [
    "train = merged[merged['type'] == 'train']\n",
    "train.drop(columns=['Id','type'],inplace=True)\n",
    "test = merged[merged['type'] == 'test']\n",
    "test.drop(columns=['type','SalePrice'],inplace=True)"
   ]
  },
  {
   "cell_type": "code",
   "execution_count": 11,
   "metadata": {
    "ExecuteTime": {
     "end_time": "2019-03-03T23:44:07.301258Z",
     "start_time": "2019-03-03T23:44:07.256433Z"
    }
   },
   "outputs": [
    {
     "name": "stderr",
     "output_type": "stream",
     "text": [
      "/Users/macpro/anaconda3/lib/python3.7/site-packages/ipykernel_launcher.py:3: SettingWithCopyWarning: \n",
      "A value is trying to be set on a copy of a slice from a DataFrame.\n",
      "Try using .loc[row_indexer,col_indexer] = value instead\n",
      "\n",
      "See the caveats in the documentation: http://pandas.pydata.org/pandas-docs/stable/indexing.html#indexing-view-versus-copy\n",
      "  This is separate from the ipykernel package so we can avoid doing imports until\n"
     ]
    },
    {
     "data": {
      "text/plain": [
       "count    1456.000000\n",
       "mean       12.022909\n",
       "std         0.398649\n",
       "min        10.460242\n",
       "25%        11.774520\n",
       "50%        12.001505\n",
       "75%        12.273731\n",
       "max        13.534473\n",
       "Name: SalePrice, dtype: float64"
      ]
     },
     "execution_count": 11,
     "metadata": {},
     "output_type": "execute_result"
    }
   ],
   "source": [
    "# taking the log of the saleprice\n",
    "\n",
    "train['SalePrice'] = np.log(train['SalePrice'])\n",
    "train['SalePrice'].describe()"
   ]
  },
  {
   "cell_type": "markdown",
   "metadata": {
    "heading_collapsed": true
   },
   "source": [
    "### Linear Regression"
   ]
  },
  {
   "cell_type": "code",
   "execution_count": null,
   "metadata": {
    "ExecuteTime": {
     "end_time": "2019-03-03T23:42:22.433255Z",
     "start_time": "2019-03-03T23:42:22.404425Z"
    },
    "hidden": true,
    "scrolled": true
   },
   "outputs": [],
   "source": [
    "import pandas as pd\n",
    "import matplotlib.pyplot as plt\n",
    "import seaborn as sns\n",
    "import numpy as np\n",
    "import re\n",
    "import sklearn.model_selection as ms\n",
    "from scipy.stats import norm\n",
    "from scipy.stats import skew\n",
    "from sklearn.preprocessing import StandardScaler\n",
    "from sklearn.linear_model import LinearRegression, RidgeCV, LassoCV, ElasticNetCV\n",
    "from sklearn.ensemble import (GradientBoostingRegressor , RandomForestRegressor,\n",
    "                              BaggingRegressor,ExtraTreesRegressor,AdaBoostRegressor)\n",
    "from scipy import stats\n",
    "from sklearn.model_selection import cross_val_score, train_test_split\n",
    "from sklearn.metrics import mean_squared_error, make_scorer\n",
    "import warnings\n",
    "warnings.filterwarnings('ignore')\n",
    "%matplotlib inline\n",
    "\n",
    "pd.set_option('display.max_columns', 85)\n",
    "pd.set_option('display.max_rows', 85)"
   ]
  },
  {
   "cell_type": "code",
   "execution_count": null,
   "metadata": {
    "ExecuteTime": {
     "end_time": "2019-03-03T23:42:22.437023Z",
     "start_time": "2019-03-03T23:42:22.435029Z"
    },
    "hidden": true
   },
   "outputs": [],
   "source": [
    "y = train.SalePrice"
   ]
  },
  {
   "cell_type": "markdown",
   "metadata": {},
   "source": [
    "## Defining the train/test split (80/20)"
   ]
  },
  {
   "cell_type": "code",
   "execution_count": 13,
   "metadata": {
    "ExecuteTime": {
     "end_time": "2019-03-03T23:44:17.664922Z",
     "start_time": "2019-03-03T23:44:17.657448Z"
    }
   },
   "outputs": [],
   "source": [
    "house_features = train.drop('SalePrice',axis = 1)\n",
    "prices = train['SalePrice']\n",
    "\n",
    "x_train, x_test, y_train, y_test = ms.train_test_split(house_features, prices, \n",
    "                                                       test_size=0.2, random_state=111)"
   ]
  },
  {
   "cell_type": "markdown",
   "metadata": {},
   "source": [
    "## Ridge"
   ]
  },
  {
   "cell_type": "code",
   "execution_count": 16,
   "metadata": {
    "ExecuteTime": {
     "end_time": "2019-03-03T23:48:10.352167Z",
     "start_time": "2019-03-03T23:47:45.575644Z"
    },
    "cell_style": "center"
   },
   "outputs": [
    {
     "name": "stdout",
     "output_type": "stream",
     "text": [
      "The best alpha is: 20.244524\n",
      "\n",
      "The ridge intercept is: 5.31\n",
      "\n",
      "LotFrontage              0.000490\n",
      "LotArea                  0.000002\n",
      "OverallQual              0.050000\n",
      "OverallCond              0.040034\n",
      "YearBuilt                0.002033\n",
      "YearRemodAdd             0.000680\n",
      "MasVnrArea               0.000026\n",
      "BsmtFinSF1               0.000058\n",
      "BsmtFinSF2               0.000044\n",
      "BsmtUnfSF               -0.000011\n",
      "TotalBsmtSF              0.000091\n",
      "1stFlrSF                 0.000106\n",
      "2ndFlrSF                 0.000094\n",
      "LowQualFinSF            -0.000033\n",
      "GrLivArea                0.000166\n",
      "BsmtFullBath             0.020115\n",
      "BsmtHalfBath             0.005169\n",
      "FullBath                 0.020433\n",
      "HalfBath                 0.028653\n",
      "BedroomAbvGr            -0.004380\n",
      "KitchenAbvGr            -0.013572\n",
      "TotRmsAbvGrd            -0.000793\n",
      "Fireplaces               0.003851\n",
      "GarageYrBlt             -0.000037\n",
      "GarageCars               0.023184\n",
      "GarageArea               0.000080\n",
      "WoodDeckSF               0.000088\n",
      "OpenPorchSF              0.000069\n",
      "EnclosedPorch            0.000116\n",
      "3SsnPorch                0.000171\n",
      "ScreenPorch              0.000228\n",
      "PoolArea                 0.000186\n",
      "MiscVal                  0.000003\n",
      "MSSubClass_120           0.014901\n",
      "MSSubClass_150           0.000000\n",
      "MSSubClass_160          -0.040705\n",
      "MSSubClass_180          -0.001368\n",
      "MSSubClass_190          -0.002022\n",
      "MSSubClass_20            0.005353\n",
      "MSSubClass_30           -0.033793\n",
      "MSSubClass_40            0.001199\n",
      "MSSubClass_45            0.007429\n",
      "MSSubClass_50            0.007132\n",
      "MSSubClass_60            0.007329\n",
      "MSSubClass_70            0.032714\n",
      "MSSubClass_75           -0.000771\n",
      "MSSubClass_80            0.003607\n",
      "MSSubClass_85            0.001095\n",
      "MSSubClass_90           -0.002101\n",
      "MSZoning_C (all)        -0.067567\n",
      "MSZoning_FV              0.037907\n",
      "MSZoning_RH              0.005639\n",
      "MSZoning_RL              0.041047\n",
      "MSZoning_RM             -0.017027\n",
      "Street_Grvl             -0.010795\n",
      "Street_Pave              0.010795\n",
      "Alley_Grvl              -0.004160\n",
      "Alley_None              -0.002963\n",
      "Alley_Pave               0.007123\n",
      "LotShape_IR1            -0.000663\n",
      "LotShape_IR2             0.003187\n",
      "LotShape_IR3            -0.000007\n",
      "LotShape_Reg            -0.002517\n",
      "LandContour_Bnk         -0.004102\n",
      "LandContour_HLS          0.007257\n",
      "LandContour_Low         -0.014121\n",
      "LandContour_Lvl          0.010965\n",
      "Utilities_AllPub         0.005182\n",
      "Utilities_NoSeWa        -0.005182\n",
      "LotConfig_Corner         0.001993\n",
      "LotConfig_CulDSac        0.024169\n",
      "LotConfig_FR2           -0.015963\n",
      "LotConfig_FR3            0.000780\n",
      "LotConfig_Inside        -0.010979\n",
      "LandSlope_Gtl            0.011276\n",
      "LandSlope_Mod            0.012146\n",
      "LandSlope_Sev           -0.023422\n",
      "Neighborhood_Blmngtn    -0.012855\n",
      "Neighborhood_Blueste     0.000589\n",
      "Neighborhood_BrDale     -0.004696\n",
      "Neighborhood_BrkSide     0.022869\n",
      "Neighborhood_ClearCr     0.020107\n",
      "Neighborhood_CollgCr    -0.010374\n",
      "Neighborhood_Crawfor     0.071611\n",
      "Neighborhood_Edwards    -0.029563\n",
      "Neighborhood_Gilbert    -0.010289\n",
      "Neighborhood_IDOTRR     -0.012382\n",
      "Neighborhood_MeadowV    -0.041285\n",
      "Neighborhood_Mitchel    -0.028077\n",
      "Neighborhood_NAmes      -0.015587\n",
      "Neighborhood_NPkVill     0.004795\n",
      "Neighborhood_NWAmes     -0.017605\n",
      "Neighborhood_NoRidge     0.007783\n",
      "Neighborhood_NridgHt     0.025810\n",
      "Neighborhood_OldTown    -0.014583\n",
      "Neighborhood_SWISU      -0.005684\n",
      "Neighborhood_Sawyer     -0.010360\n",
      "Neighborhood_SawyerW    -0.004725\n",
      "Neighborhood_Somerst     0.030639\n",
      "Neighborhood_StoneBr     0.039600\n",
      "Neighborhood_Timber     -0.012381\n",
      "Neighborhood_Veenker     0.006642\n",
      "Condition1_Artery       -0.025329\n",
      "Condition1_Feedr        -0.003639\n",
      "Condition1_Norm          0.042602\n",
      "Condition1_PosA         -0.004875\n",
      "Condition1_PosN          0.004307\n",
      "Condition1_RRAe         -0.019859\n",
      "Condition1_RRAn          0.009576\n",
      "Condition1_RRNe         -0.003931\n",
      "Condition1_RRNn          0.001148\n",
      "Condition2_Artery       -0.002936\n",
      "Condition2_Feedr         0.002234\n",
      "Condition2_Norm         -0.000105\n",
      "Condition2_PosA          0.006529\n",
      "Condition2_PosN          0.000000\n",
      "Condition2_RRAe          0.000000\n",
      "Condition2_RRAn         -0.004119\n",
      "Condition2_RRNn         -0.001602\n",
      "BldgType_1Fam            0.022729\n",
      "BldgType_2fmCon          0.000552\n",
      "BldgType_Duplex         -0.002101\n",
      "BldgType_Twnhs          -0.021646\n",
      "BldgType_TwnhsE          0.000465\n",
      "HouseStyle_1.5Fin       -0.000258\n",
      "HouseStyle_1.5Unf        0.012360\n",
      "HouseStyle_1Story        0.000067\n",
      "HouseStyle_2.5Fin       -0.009526\n",
      "HouseStyle_2.5Unf        0.006598\n",
      "HouseStyle_2Story       -0.015550\n",
      "HouseStyle_SFoyer       -0.003266\n",
      "HouseStyle_SLvl          0.009575\n",
      "RoofStyle_Flat          -0.003484\n",
      "RoofStyle_Gable         -0.000724\n",
      "RoofStyle_Gambrel       -0.013360\n",
      "RoofStyle_Hip            0.000325\n",
      "RoofStyle_Mansard        0.009437\n",
      "RoofStyle_Shed           0.007805\n",
      "RoofMatl_CompShg         0.008082\n",
      "RoofMatl_Membran         0.000000\n",
      "RoofMatl_Metal           0.004507\n",
      "RoofMatl_Roll           -0.002074\n",
      "RoofMatl_Tar&Grv        -0.014283\n",
      "RoofMatl_WdShake        -0.001942\n",
      "RoofMatl_WdShngl         0.005710\n",
      "Exterior1st_AsbShng      0.014774\n",
      "Exterior1st_AsphShn     -0.002190\n",
      "Exterior1st_BrkComm      0.003072\n",
      "Exterior1st_BrkFace      0.028469\n",
      "Exterior1st_CBlock      -0.004277\n",
      "Exterior1st_CemntBd     -0.000925\n",
      "Exterior1st_HdBoard     -0.013055\n",
      "Exterior1st_ImStucc      0.000000\n",
      "Exterior1st_MetalSd      0.003033\n",
      "Exterior1st_Plywood     -0.005259\n",
      "Exterior1st_Stone       -0.003083\n",
      "Exterior1st_Stucco       0.012139\n",
      "Exterior1st_VinylSd      0.000204\n",
      "Exterior1st_Wd Sdng     -0.030417\n",
      "Exterior1st_WdShing     -0.002485\n",
      "Exterior2nd_AsbShng      0.015865\n",
      "Exterior2nd_AsphShn     -0.004485\n",
      "Exterior2nd_Brk Cmn      0.008069\n",
      "Exterior2nd_BrkFace     -0.016843\n",
      "Exterior2nd_CBlock      -0.004277\n",
      "Exterior2nd_CmentBd      0.005684\n",
      "Exterior2nd_HdBoard     -0.006601\n",
      "Exterior2nd_ImStucc     -0.006653\n",
      "Exterior2nd_MetalSd      0.004176\n",
      "Exterior2nd_Other       -0.001529\n",
      "Exterior2nd_Plywood     -0.009733\n",
      "Exterior2nd_Stone       -0.001118\n",
      "Exterior2nd_Stucco      -0.005327\n",
      "Exterior2nd_VinylSd      0.002302\n",
      "Exterior2nd_Wd Sdng      0.020228\n",
      "Exterior2nd_Wd Shng      0.000241\n",
      "MasVnrType_BrkCmn       -0.012814\n",
      "MasVnrType_BrkFace      -0.009654\n",
      "MasVnrType_None          0.001037\n",
      "MasVnrType_Stone         0.021432\n",
      "ExterQual_Ex             0.017290\n",
      "ExterQual_Fa            -0.003688\n",
      "ExterQual_Gd             0.000590\n",
      "ExterQual_TA            -0.014192\n",
      "ExterCond_Ex             0.010015\n",
      "ExterCond_Fa            -0.011626\n",
      "ExterCond_Gd            -0.008658\n",
      "ExterCond_Po            -0.000137\n",
      "ExterCond_TA             0.010406\n",
      "Foundation_BrkTil       -0.006161\n",
      "Foundation_CBlock        0.000286\n",
      "Foundation_PConc         0.021968\n",
      "Foundation_Slab         -0.005246\n",
      "Foundation_Stone         0.007776\n",
      "Foundation_Wood         -0.018623\n",
      "BsmtQual_0              -0.003037\n",
      "BsmtQual_Ex              0.022714\n",
      "BsmtQual_Fa              0.002283\n",
      "BsmtQual_Gd             -0.010247\n",
      "BsmtQual_TA             -0.011713\n",
      "BsmtCond_0              -0.003037\n",
      "BsmtCond_Fa             -0.012365\n",
      "BsmtCond_Gd              0.007100\n",
      "BsmtCond_Po             -0.000665\n",
      "BsmtCond_TA              0.008968\n",
      "BsmtExposure_Av         -0.008253\n",
      "BsmtExposure_Gd          0.036663\n",
      "BsmtExposure_Mn         -0.009986\n",
      "BsmtExposure_No         -0.012904\n",
      "BsmtExposure_None       -0.005521\n",
      "BsmtFinType1_ALQ         0.005407\n",
      "BsmtFinType1_BLQ         0.010337\n",
      "BsmtFinType1_GLQ         0.009939\n",
      "BsmtFinType1_LwQ        -0.005171\n",
      "BsmtFinType1_None       -0.003037\n",
      "BsmtFinType1_Rec        -0.006821\n",
      "BsmtFinType1_Unf        -0.010654\n",
      "BsmtFinType2_ALQ         0.012932\n",
      "BsmtFinType2_BLQ        -0.015131\n",
      "BsmtFinType2_GLQ         0.006790\n",
      "BsmtFinType2_LwQ        -0.002599\n",
      "BsmtFinType2_None       -0.005655\n",
      "BsmtFinType2_Rec        -0.001696\n",
      "BsmtFinType2_Unf         0.005360\n",
      "Heating_Floor            0.000000\n",
      "Heating_GasA             0.010290\n",
      "Heating_GasW             0.015306\n",
      "Heating_Grav            -0.029647\n",
      "Heating_OthW            -0.002873\n",
      "Heating_Wall             0.006923\n",
      "HeatingQC_Ex             0.015670\n",
      "HeatingQC_Fa            -0.012972\n",
      "HeatingQC_Gd             0.002622\n",
      "HeatingQC_Po             0.000000\n",
      "HeatingQC_TA            -0.005321\n",
      "CentralAir_N            -0.024840\n",
      "CentralAir_Y             0.024840\n",
      "Electrical_FuseA         0.015921\n",
      "Electrical_FuseF         0.003584\n",
      "Electrical_FuseP        -0.005799\n",
      "Electrical_Mix          -0.004151\n",
      "Electrical_SBrkr        -0.009556\n",
      "KitchenQual_Ex           0.031268\n",
      "KitchenQual_Fa          -0.002235\n",
      "KitchenQual_Gd          -0.013993\n",
      "KitchenQual_None         0.000000\n",
      "KitchenQual_TA          -0.015040\n",
      "Functional_Maj1         -0.015796\n",
      "Functional_Maj2         -0.018100\n",
      "Functional_Min1         -0.000100\n",
      "Functional_Min2          0.010864\n",
      "Functional_Mod          -0.018114\n",
      "Functional_Sev           0.000000\n",
      "Functional_Typ           0.041246\n",
      "FireplaceQu_0           -0.020720\n",
      "FireplaceQu_Ex          -0.001428\n",
      "FireplaceQu_Fa          -0.004255\n",
      "FireplaceQu_Gd           0.008228\n",
      "FireplaceQu_Po           0.014974\n",
      "FireplaceQu_TA           0.003201\n",
      "GarageType_2Types       -0.009621\n",
      "GarageType_Attchd        0.012197\n",
      "GarageType_Basment      -0.011022\n",
      "GarageType_BuiltIn       0.011665\n",
      "GarageType_CarPort      -0.008579\n",
      "GarageType_Detchd        0.012208\n",
      "GarageType_None         -0.006848\n",
      "GarageFinish_Fin         0.000756\n",
      "GarageFinish_None       -0.006848\n",
      "GarageFinish_RFn        -0.000135\n",
      "GarageFinish_Unf         0.006227\n",
      "GarageQual_0            -0.006848\n",
      "GarageQual_Ex            0.005531\n",
      "GarageQual_Fa           -0.004806\n",
      "GarageQual_Gd            0.015615\n",
      "GarageQual_Po           -0.005084\n",
      "GarageQual_TA           -0.004410\n",
      "GarageCond_0            -0.006848\n",
      "GarageCond_Ex            0.005531\n",
      "GarageCond_Fa           -0.019578\n",
      "GarageCond_Gd            0.008606\n",
      "GarageCond_Po            0.007442\n",
      "GarageCond_TA            0.004846\n",
      "PavedDrive_N            -0.002837\n",
      "PavedDrive_P            -0.003131\n",
      "PavedDrive_Y             0.005968\n",
      "PoolQC_Ex               -0.011278\n",
      "PoolQC_Fa               -0.001179\n",
      "PoolQC_Gd                0.009371\n",
      "PoolQC_None              0.003087\n",
      "Fence_GdPrv             -0.003891\n",
      "Fence_GdWo              -0.013826\n",
      "Fence_MnPrv              0.003174\n",
      "Fence_MnWw               0.009176\n",
      "Fence_None               0.005368\n",
      "MiscFeature_Gar2         0.000173\n",
      "MiscFeature_None         0.004474\n",
      "MiscFeature_Othr         0.002983\n",
      "MiscFeature_Shed        -0.007629\n",
      "MiscFeature_TenC         0.000000\n",
      "MoSold_1                -0.004718\n",
      "MoSold_10                0.004704\n",
      "MoSold_11               -0.010539\n",
      "MoSold_12                0.008654\n",
      "MoSold_2                -0.007154\n",
      "MoSold_3                -0.007780\n",
      "MoSold_4                -0.004111\n",
      "MoSold_5                 0.014576\n",
      "MoSold_6                 0.010160\n",
      "MoSold_7                 0.005408\n",
      "MoSold_8                -0.001149\n",
      "MoSold_9                -0.008051\n",
      "YrSold_2006              0.010326\n",
      "YrSold_2007             -0.003446\n",
      "YrSold_2008              0.000626\n",
      "YrSold_2009             -0.010950\n",
      "YrSold_2010              0.003444\n",
      "SaleType_COD            -0.008693\n",
      "SaleType_CWD             0.009567\n",
      "SaleType_Con             0.006557\n",
      "SaleType_ConLD           0.008517\n",
      "SaleType_ConLI          -0.016331\n",
      "SaleType_ConLw          -0.002735\n",
      "SaleType_New             0.025421\n",
      "SaleType_Oth             0.007478\n",
      "SaleType_WD             -0.029783\n",
      "SaleCondition_Abnorml   -0.037200\n",
      "SaleCondition_AdjLand    0.008900\n",
      "SaleCondition_Alloca     0.005686\n",
      "SaleCondition_Family    -0.024199\n",
      "SaleCondition_Normal     0.030409\n",
      "SaleCondition_Partial    0.016404\n",
      "dtype: float64\n",
      "\n",
      "The model score is 0.9419\n",
      "\n",
      "Train RMSE: 0.094495\n",
      "\n",
      "Test RMSE: 0.122664\n",
      "\n",
      "Diff in RMSE: 0.028\n",
      "\n",
      "\n"
     ]
    }
   ],
   "source": [
    "# 981 \n",
    "# 0.12077\n",
    "# R2: 0.9420\n",
    "# trainRMSE: 0.096945\n",
    "# testRMSE: 0.101837\n",
    "\n",
    "ridcv = RidgeCV(alphas=np.linspace(1e-5,20,10000), normalize=False, scoring=None)\n",
    "\n",
    "ridcv.fit(x_train,y_train)\n",
    "\n",
    "trainRMSE = np.sqrt(mean_squared_error(y_true=y_train, y_pred=ridcv.predict(x_train)))\n",
    "testRMSE = np.sqrt(mean_squared_error(y_true=y_test, y_pred=ridcv.predict(x_test)))\n",
    "\n",
    "print('The best alpha is: {:.6f}\\n\\nThe ridge intercept is: {:.2f}\\n\\n{}\\n\\nThe model score is {:.4f}\\n\\nTrain RMSE: {:.6f}\\n\\nTest RMSE: {:.6f}\\n\\nDiff in RMSE: {:.3f}\\n\\n'.format(\n",
    "    ridcv.alpha_,ridcv.intercept_, pd.Series(ridcv.coef_, index=x_train.columns), ridcv.score(x_train, y_train), trainRMSE,testRMSE,(testRMSE - trainRMSE)))\n",
    "\n",
    "# pd.DataFrame({'Id': test['Id'], 'SalePrice': np.exp(ridcv.predict(test.drop(columns='Id')))}\n",
    "#             ).to_csv('ridcv {}.csv'.format(str(datetime.datetime.now())[:19].replace(':','.')\n",
    "#                                            ), index=False)"
   ]
  },
  {
   "cell_type": "markdown",
   "metadata": {},
   "source": [
    "## Elastic-net"
   ]
  },
  {
   "cell_type": "code",
   "execution_count": null,
   "metadata": {
    "ExecuteTime": {
     "end_time": "2019-03-03T23:43:47.643759Z",
     "start_time": "2019-03-03T23:42:52.644854Z"
    },
    "cell_style": "center",
    "hide_input": false
   },
   "outputs": [],
   "source": [
    "# 917\n",
    "# 0.11994\n",
    "# R2: 0.9359\n",
    "# trainRMSE: 0.101935\n",
    "# testRMSE: 0.100320\n",
    "# diff: -0.002\n",
    "\n",
    "enet = ElasticNetCV(l1_ratio=np.linspace(0.01,1,100), alphas=np.linspace(1e-5,20,1000), max_iter=1000, normalize=False, cv=10, n_jobs=-1)\n",
    "\n",
    "enet.fit(x_train, y_train)\n",
    "\n",
    "trainRMSE = np.sqrt(mean_squared_error(y_true=y_train, y_pred=enet.predict(x_train)))\n",
    "testRMSE = np.sqrt(mean_squared_error(y_true=y_test, y_pred=enet.predict(x_test)))\n",
    "\n",
    "print('The best alpha is: {:.6f}\\n\\nThe elastic-net intercept is: {:.2f}\\n\\n{}\\n\\nThe model score is {:.4f}\\n\\nTrain RMSE: {:.6f}\\n\\nTest RMSE: {:.6f}\\n\\nDiff in RMSE: {:.3f}\\n\\n'.format(\n",
    "    enet.alpha_,enet.intercept_, pd.Series(enet.coef_, index=x_train.columns), enet.score(x_train, y_train), trainRMSE,testRMSE,(testRMSE - trainRMSE)))\n",
    "\n",
    "# pd.DataFrame({'Id': test['Id'], 'SalePrice': np.exp(enet.predict(test.drop(columns='Id')))}\n",
    "#             ).to_csv('enet {}.csv'.format(str(datetime.datetime.now())[:19].replace(':','.')\n",
    "#                                            ), index=False)"
   ]
  },
  {
   "cell_type": "markdown",
   "metadata": {},
   "source": [
    "## Lasso"
   ]
  },
  {
   "cell_type": "code",
   "execution_count": null,
   "metadata": {
    "ExecuteTime": {
     "end_time": "2019-03-03T23:43:47.647179Z",
     "start_time": "2019-03-03T23:42:19.372Z"
    },
    "cell_style": "center"
   },
   "outputs": [],
   "source": [
    "#  alpha           UJ range              np.linspace(1e-4,1e-2,1000)\n",
    "#  CV          100         10          100\n",
    "# R2:        0.9366      0.9399      0.9374\n",
    "# trainRMSE: 0.101363    0.098698    0.100718\n",
    "# testRMSE:  0.100012    0.100196    0.099977\n",
    "# diff:b       0.00       0.00         0.00\n",
    "\n",
    "lassocv = LassoCV(alphas=np.linspace(1e-4,1e-3,1000), normalize=False,\n",
    "                      max_iter=10000, n_jobs=-1, cv=100)\n",
    "\n",
    "lassocv.fit(x_train, y_train)\n",
    "\n",
    "trainRMSE = np.sqrt(mean_squared_error(y_true=y_train, y_pred=lassocv.predict(x_train)))\n",
    "testRMSE = np.sqrt(mean_squared_error(y_true=y_test, y_pred=lassocv.predict(x_test)))\n",
    "\n",
    "print('The best alpha is: {:.6f}\\n\\nThe lasso intercept is: {:.2f}\\n\\n{}\\n\\nThe model score is {:.4f}\\n\\nTrain RMSE: {:.6f}\\n\\nTest RMSE: {:.6f}\\n\\nDiff in RMSE: {:.3f}\\n\\n'.format(\n",
    "    lassocv.alpha_,lassocv.intercept_, pd.Series(lassocv.coef_, index=x_train.columns), lassocv.score(x_train, y_train), trainRMSE,testRMSE,(testRMSE - trainRMSE)))\n",
    "\n",
    "# pd.DataFrame({'Id':test['Id'],'SalePrice': np.exp(lassocv.predict(test.drop(columns='Id')))}\n",
    "#             ).to_csv('lasso {}.csv'.format(str(datetime.datetime.now())[:19].replace(':','.')\n",
    "#                                            ), index=False)"
   ]
  },
  {
   "cell_type": "markdown",
   "metadata": {},
   "source": [
    "## Random Forest"
   ]
  },
  {
   "cell_type": "code",
   "execution_count": null,
   "metadata": {
    "ExecuteTime": {
     "end_time": "2019-03-03T23:43:47.648836Z",
     "start_time": "2019-03-03T23:42:19.375Z"
    }
   },
   "outputs": [],
   "source": [
    "from sklearn.ensemble import RandomForestRegressor\n",
    "rf = RandomForestRegressor(n_estimators=1000,max_depth=7,max_features='auto', min_samples_split=2, min_samples_leaf=1,n_jobs=-1)\n",
    "rf.fit(x_train, y_train)\n",
    "\n",
    "scores = ms.cross_val_score(rf, x_train, y_train, cv=10)\n",
    "\n",
    "print(scores.mean())\n",
    "\n",
    "trainRMSE = np.sqrt(mean_squared_error(y_true=y_train, y_pred=rf.predict(x_train)))\n",
    "testRMSE = np.sqrt(mean_squared_error(y_true=y_test, y_pred=rf.predict(x_test)))\n",
    "\n",
    "print('\\nThe model score is {:.4f}\\n\\nTrain RMSE: {:.6f}\\n\\nTest RMSE: {:.6f}\\n\\nDiff in RMSE: {:.3f}\\n\\n'.format(\n",
    "    rf.score(x_train, y_train), trainRMSE,testRMSE,(testRMSE - trainRMSE)))\n",
    "\n",
    "\n",
    "# pd.DataFrame({'Id':test['Id'],'SalePrice': np.exp(rf.predict(test.drop(columns='Id')))}\n",
    "#             ).to_csv('rf {}.csv'.format(str(datetime.datetime.now())[:19].replace(':','.')\n",
    "#                                            ), index=False)\n",
    "\n",
    "# 1000 trees\n",
    "# 0.8395225412896815\n",
    "# R2: 0.9517\n",
    "# Train RMSE: 0.088419\n",
    "# Test RMSE: 0.129310\n",
    "# Diff in RMSE: 0.041"
   ]
  },
  {
   "cell_type": "markdown",
   "metadata": {},
   "source": [
    "## Output csv"
   ]
  },
  {
   "cell_type": "code",
   "execution_count": null,
   "metadata": {
    "ExecuteTime": {
     "end_time": "2019-03-03T23:43:47.650235Z",
     "start_time": "2019-03-03T23:42:19.378Z"
    }
   },
   "outputs": [],
   "source": [
    "# pd.DataFrame({'Id': test['Id'], 'SalePrice': np.exp(ridcv.predict(test.drop(columns='Id')))}\n",
    "#             ).to_csv('ridcv {}.csv'.format(str(datetime.datetime.now())[:19].replace(':','.')\n",
    "#                                            ), index=False)\n",
    "# pd.DataFrame({'Id': test['Id'], 'SalePrice': np.exp(enet.predict(test.drop(columns='Id')))}\n",
    "#             ).to_csv('enet {}.csv'.format(str(datetime.datetime.now())[:19].replace(':','.')\n",
    "#                                            ), index=False)\n",
    "# pd.DataFrame({'Id':test['Id'],'SalePrice': np.exp(lassocv.predict(test.drop(columns='Id')))}\n",
    "#             ).to_csv('lasso {}.csv'.format(str(datetime.datetime.now())[:19].replace(':','.')\n",
    "#                                            ), index=False)\n",
    "# pd.DataFrame({'Id':test['Id'],'SalePrice': np.exp(rf.predict(test.drop(columns='Id')))}\n",
    "#             ).to_csv('rf {}.csv'.format(str(datetime.datetime.now())[:19].replace(':','.')\n",
    "#                                            ), index=False)"
   ]
  }
 ],
 "metadata": {
  "kernelspec": {
   "display_name": "Python 3",
   "language": "python",
   "name": "python3"
  },
  "language_info": {
   "codemirror_mode": {
    "name": "ipython",
    "version": 3
   },
   "file_extension": ".py",
   "mimetype": "text/x-python",
   "name": "python",
   "nbconvert_exporter": "python",
   "pygments_lexer": "ipython3",
   "version": "3.7.1"
  },
  "varInspector": {
   "cols": {
    "lenName": 16,
    "lenType": 16,
    "lenVar": 40
   },
   "kernels_config": {
    "python": {
     "delete_cmd_postfix": "",
     "delete_cmd_prefix": "del ",
     "library": "var_list.py",
     "varRefreshCmd": "print(var_dic_list())"
    },
    "r": {
     "delete_cmd_postfix": ") ",
     "delete_cmd_prefix": "rm(",
     "library": "var_list.r",
     "varRefreshCmd": "cat(var_dic_list()) "
    }
   },
   "position": {
    "height": "574.473px",
    "left": "815px",
    "right": "20px",
    "top": "107.984px",
    "width": "385.43px"
   },
   "types_to_exclude": [
    "module",
    "function",
    "builtin_function_or_method",
    "instance",
    "_Feature"
   ],
   "window_display": false
  }
 },
 "nbformat": 4,
 "nbformat_minor": 2
}
